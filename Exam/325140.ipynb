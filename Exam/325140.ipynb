{
 "cells": [
  {
   "cell_type": "markdown",
   "id": "e4fc29c0d30afb83",
   "metadata": {},
   "source": [
    "# ADA final exam (Fall 2023)\n",
    "\n",
    "This exam consists of 2 parts. Parts are independent from each other.\n",
    "\n",
    "## Dataset\n",
    "\n",
    "\n",
    "\"Friends\" is an American television sitcom that originally aired on NBC from September 22, 1994, to May 6, 2004. Created by David Crane and Marta Kauffman, the show gained immense popularity and has since become a classic in the world of television. The series is set in New York City and revolves around a group of six friends: Ross Geller (David Schwimmer), Rachel Green (Jennifer Aniston), Monica Geller (Courteney Cox), Chandler Bing (Matthew Perry), Joey Tribbiani (Matt LeBlanc), and Phoebe Buffay (Lisa Kudrow). The show explores their personal and professional lives as they navigate the ups and downs of relationships, careers, and the challenges of adulthood.\n",
    "\n",
    "In this exam, we will use a dataset containing all the conversations that occurred over 10 seasons of Friends. We refer to each row in the dataset as an 'utterance.\" The data format of the dataset is as follows\n",
    "\n",
    "- id: `<str>`, the index of the utterance in the format sAA_eBB_cCC_uDDD, where AA is the season number, BB is the episode number, CC is the scene/conversation number, and DDD is the number of the utterance in the scene (e.g. s01_e18_c05_u021).\n",
    "- speaker: `<str>`, the speaker who made the utterance, e.g. Monica Geller\n",
    "- conversation_id: `<str>`, the id of the first utterance in the conversation this utterance belongs. We assume conversations begin at the start of a new scene.\n",
    "- reply_to: `<str>`, the id of the utterance to which this utterance replies. None if the utterance is the first in a conversation.\n",
    "- text: `<str>`, the textual content of the utterance.\n"
   ]
  },
  {
   "cell_type": "code",
   "execution_count": 83,
   "id": "b039cc2f",
   "metadata": {},
   "outputs": [],
   "source": [
    "# First, let's import some required libraries!\n",
    "import statsmodels.formula.api as smf\n",
    "import pandas as pd\n",
    "from collections import Counter\n",
    "import networkx as nx\n",
    "import seaborn as sns\n",
    "import matplotlib.pyplot as plt\n",
    "import itertools\n",
    "import numpy as np"
   ]
  },
  {
   "cell_type": "markdown",
   "id": "77be188a",
   "metadata": {},
   "source": [
    "\n",
    "## Part 1: The one where you find the protagonist (60 pts)\n",
    "\n",
    "A big debate among Friends fans is: who is the show's main character? In this task, your goal is to provide a data-driven answer to this question.\n",
    "\n",
    "\n",
    "--- \n",
    "\n",
    "**1.1 —** Load the data from the jsonl file `exam1.jsonl` into a pandas dataframe. Then\n",
    " \n",
    " A. Calculate and display the number of distinct speakers in the dataframe.\n",
    " \n",
    " B. Calculate and display the number of conversations (see `conversation_id`).\n",
    " \n",
    " C. Remove all utterances from the dataframe where the `speaker` is \"TRANSCRIPT_NOTE\" or \"#ALL#\". Print the number of rows in the dataframe.\n",
    " \n",
    " D. Create additional columns corresponding to the season (season, e.g., season 1 should contain s01) and the episode (episode, e.g., episode 5 of season 4 should contain s04_e05) of each utterance. Print the season and the episode associated with utterance s10_e18_c11_u019.\n",
    "\n",
    "E. Create an additional column corresponding to the length of each utterance in terms of the number of characters (length). Print the length associated with utterance s10_e18_c11_u019.\n"
   ]
  },
  {
   "cell_type": "code",
   "execution_count": 84,
   "id": "5db709e1",
   "metadata": {},
   "outputs": [],
   "source": [
    "import os\n",
    "data_folder = 'data'\n",
    "exam1_path = os.path.join(data_folder, 'exam1.jsonl')\n",
    "exam2_path = os.path.join(data_folder, 'exam2.graphml')\n",
    "exam3_path = os.path.join(data_folder, 'exam3.jsonl')"
   ]
  },
  {
   "cell_type": "markdown",
   "id": "cfec52cf",
   "metadata": {},
   "source": [
    "### 1.1"
   ]
  },
  {
   "cell_type": "code",
   "execution_count": 85,
   "id": "d4daa420",
   "metadata": {},
   "outputs": [],
   "source": [
    "import json\n",
    "\n",
    "#load the DataFrame\n",
    "data = []\n",
    "with open(exam1_path, 'r') as json_file:\n",
    "    json_list = list(json_file)\n",
    "for json_str in json_list:\n",
    "    result = json.loads(json_str)\n",
    "    data.append(result)\n",
    "\n",
    "#Convert into pandas\n",
    "df_exam1 = pd.DataFrame(data)"
   ]
  },
  {
   "cell_type": "markdown",
   "id": "b0a56a92",
   "metadata": {},
   "source": [
    "A)"
   ]
  },
  {
   "cell_type": "code",
   "execution_count": 86,
   "id": "5cb4917b",
   "metadata": {},
   "outputs": [
    {
     "name": "stdout",
     "output_type": "stream",
     "text": [
      "There is 700 different speakers\n",
      "These speakers are: \n"
     ]
    },
    {
     "data": {
      "text/plain": [
       "array(['Monica Geller', 'Joey Tribbiani', 'Chandler Bing',\n",
       "       'Phoebe Buffay', 'TRANSCRIPT_NOTE', '#ALL#', 'Ross Geller',\n",
       "       'Rachel Green', 'Waitress', 'Paul the Wine Guy', 'Priest On Tv',\n",
       "       'Franny', 'Customer', 'Marsha', 'Carol Willick', 'Judy Geller',\n",
       "       'Susan Bunch', 'Barry Farber', 'Robbie', 'Bernice', 'Dr. Oberman',\n",
       "       'Paula', 'Alan', 'The Guys', 'Lizzy', 'Guys', 'Leslie', 'Kiki',\n",
       "       'Joanne', 'Receptionist', 'Pizza Guy', 'Both', 'Kid',\n",
       "       'Angela Delveccio', 'Janice Litman Goralnik', 'Woman', 'Bob',\n",
       "       'Aurora', 'Director', 'Jill Goodacre', 'Mr. Heckles', 'Paolo',\n",
       "       'Shelley', 'Aunt Lillian', 'Nurse Sizemore', 'Andrea', 'Lowell',\n",
       "       'Terry', 'Guy', 'Girl', 'Max', 'David', 'Sandy', 'Bobby Rush',\n",
       "       'Dick Clark', 'Jay Leno', 'Nora Tyler Bing', 'Coma Guy',\n",
       "       \"Phoebe's Assistant\", 'Roger', 'Joey Tribbiani Sr.',\n",
       "       'Ronni Rapalono', 'Gloria Tribbiani', 'Lorraine', 'Kristin',\n",
       "       'Fireman No. 1', 'Fireman No. 2', 'Fireman No. 3', 'Mrs. Tedlock',\n",
       "       'Celia', 'Steve (drug addict)', 'Ursula', 'Teacher', 'Helen',\n",
       "       'Nina Bookbinder', 'Mr. Douglas', 'Jamie', 'Frank Buffay Jr.',\n",
       "       'Soothing Male Voice', 'Dr. Mitchell', 'Dr. Rosen',\n",
       "       'The Whole Party', \"Phoebe's Friends\", 'Aunt Iris', 'Intercom',\n",
       "       'Luisa Gianetti', 'Woman No. 1', 'Woman No. 2', 'Mindy Hunter',\n",
       "       'Danielle', 'Fake Monica', 'Dr. Baldhara', 'Announcement', 'Actor',\n",
       "       'Casting Director No. 1', 'Casting Director No. 2', 'Ethan',\n",
       "       'Gerston', 'Santos', 'Petrie', 'Dr. Franzblau', 'Lydia', 'Janitor',\n",
       "       'Melanie', 'Flight Attendant', 'Man', \"Carl (Rachel's date)\",\n",
       "       'Julie', 'Paulo', 'Annabelle', 'Hombre Man', 'Store Guy',\n",
       "       'Mr. Treeger', 'Buddy Boyles', 'Alison', 'Stranger', 'Duncan',\n",
       "       'Old Woman', 'Jade', 'Waiter', 'Machine', 'Steven Fisher',\n",
       "       'Caroline', 'Doctor', 'Girl 1 On Bus', 'Girl 2 On Bus', 'Girl 1',\n",
       "       'Girl 2', 'Stephanie Schiffer', 'Transit Authority Guy',\n",
       "       'Together', 'Michael', 'Mr. Ratstatter', 'Radio', 'Gunther',\n",
       "       'Gang', 'Grandmother', 'Russ', 'Estelle Leonard', 'Mrs. Wallace',\n",
       "       'Sandra Green', 'Mr. Adelman', 'Minister', 'Rob', 'Erica Ford',\n",
       "       'Dean Lipson', 'Kids', 'Tv Doctor', 'Security Guard', 'Trainer',\n",
       "       \"Director's Assistant\", 'Susie Moss', 'Jean-Claude Van Damme',\n",
       "       'Interviewer', 'Gail', 'Roy', 'Chip Matthews', 'Richard Burke',\n",
       "       'Delivery Guy', 'Friend', \"Joey's Co-Star\", 'Tattoo Artist',\n",
       "       'Producer', 'Eddie Menuek', 'Amber', 'Dr. Drake Ramoray', 'Tilly',\n",
       "       'Writer', 'Dr. Horton', 'Casting Guy', 'Mover', 'Ben Geller',\n",
       "       'Ernie', 'Big Bully', 'Little Bully', 'Mrs. Buffay',\n",
       "       'Leonard Green', \"Girl's Voice\", 'Scott Alexander', 'Ryan',\n",
       "       'Jeannie', 'Wedding Planner', 'Mr. Wineburg', 'Mrs. Wineburg',\n",
       "       'Best Man', 'Jack Geller', \"Woman's Voice\", 'Michelle Burke',\n",
       "       'Sherman Whitfield', 'Malcom', 'Host', 'Mike', 'Jasmine',\n",
       "       'Isabella Rosselini', 'Eric (photographer)', 'Friend No. 1',\n",
       "       'Friend No. 2', 'Her Friends', 'Matress King', 'Student', 'Jester',\n",
       "       'Margha', 'Sarah Tuttle', 'Leader', \"Rachel's Boss\", 'Mr. Kaplan',\n",
       "       \"Joey's Sisters\", 'Cookie Tribbiani', 'Sister 1',\n",
       "       \"Joey's Grandmother\", \"Joey's Sister\", 'Mary-Angela',\n",
       "       'Mary-Theresa', 'Mark Robinson', 'Jeannine', 'Julio (poet)',\n",
       "       'Quartet', 'The Bass Barber', 'Bass Singer', 'Clerk',\n",
       "       'Robert Bobby', \"Richard's Date\", 'Singer', 'Ginger', 'Lecturer',\n",
       "       'Commercial', 'Issac', 'Chloe', 'Sergei', 'Mischa', 'Sophie',\n",
       "       'The Girls', 'Alice Knight', 'Hypnosis Tape', 'Peter Becker',\n",
       "       'Secretary', 'Employee', 'The Director', 'Kate Miller',\n",
       "       'Spokeswoman', 'Joanna', 'Lauren', 'Anchorwoman', 'Hold Voice',\n",
       "       'Tommy', 'Cailin', 'Stage Manager', 'Vince', 'Jason', 'Dr. Rhodes',\n",
       "       'Dr. Johnson', \"Pete's Mom\", 'Fireman', 'Guru Saj', 'Billy',\n",
       "       'Robin Williams', 'Robin', 'Doug', 'Hoshi', 'Bonnie', 'Phil',\n",
       "       'Stevens', 'Announcer', 'Referee', 'Tv Announcer', 'Phoebe Abbott',\n",
       "       'Ursula Buffay', 'Tony', 'Peter', 'The Salesman', 'Oven',\n",
       "       'Gym Employee', 'Rick Sanoven', 'Bank Officer', 'Ms. Lambert',\n",
       "       'Mrs. Potter', 'Mr. Simon', 'Kathy', 'Joshua Burgin',\n",
       "       \"Amanda (Ross' date)\", 'Cheryl', 'Mrs. Burkart', 'Casey', 'Voice',\n",
       "       'Nurse', 'Timothy Burke', 'Mr. Posner', 'Mrs. Lynch', 'Allesandro',\n",
       "       'Drew', 'A Waiter', 'The Waiter', 'The Conductor',\n",
       "       'The Woman From Poughkeepsie', 'Kitchen Worker', 'Woman On Train',\n",
       "       'Smart Kid', 'Tour Guide', 'Older Scientist', 'Another Tour Guide',\n",
       "       'Another Scientist', 'Dr. Zane', \"Kathy's Co-Star\",\n",
       "       'Stephen Waltham', 'Emily Waltham', 'The A.D',\n",
       "       'The Cigarette Smoking Guy', 'Charlton Heston',\n",
       "       'The Cigarette Guy', 'Devon', 'Liam', 'Ticket Counter Attendant',\n",
       "       'Mrs. Chatracus', 'The Doctor', 'Ticket Agent', 'Mrs. Burgin',\n",
       "       'Mr. Burgin', 'The Singing Man', 'The Saleslady',\n",
       "       'Sleep Clinic Worker', 'Marjorie', 'The Stripper', 'Dressmaker',\n",
       "       'The Vendor', 'Fergie', 'Housekeeper', 'Andrea Waltham',\n",
       "       'Felicity', 'Drunk Man', 'Passenger', 'Gate Agent', 'Air Hostess',\n",
       "       'Dave', 'Dr. Harad', \"Joey's Doctor\", 'Male Nurse', 'Dan',\n",
       "       'Delivery Room Nurse', 'Stage Director', 'Emeril', 'Pbs Volunteer',\n",
       "       'Gary Collins', 'Hotel Clerk', 'Danny', 'Health Inspector',\n",
       "       'Larry', 'Tom', 'The Housekeeper', 'The Paramedic', 'The Teacher',\n",
       "       'Cynthia', 'Dr. Ledbetter', 'A Female Student', 'The Man',\n",
       "       \"Danny's Sister\", 'Krista', 'Elizabeth Hornswoggle', 'Kara',\n",
       "       'Frank Buffay Sr.', 'The Pastor', 'The Casting Director', 'Katie',\n",
       "       'Steve Cera', 'Party Guests', 'Guest #1', 'Guest #2', 'Guest #3',\n",
       "       'The Smoking Woman', 'Cop', 'Gary', 'The Saleswoman',\n",
       "       \"Gary's Radio\", 'The Old Man', 'The Little Girl', 'Mr. Zelner',\n",
       "       'The Hot Girl', 'Jen', 'Kim', 'Nancy', 'Kyle', 'Raymond',\n",
       "       'Delivery Girl', 'Caitlin', 'Grandma Tribbiani',\n",
       "       'Answering Machine', 'Dr. Miller', 'Stanley', 'The Grip',\n",
       "       'The Husband', 'A Casino Boss', 'A Tourist', 'The Croupier',\n",
       "       'The Flight Attendant', 'Blackjack Dealer', 'The Woman Dealer',\n",
       "       \"Joey's Hand Twin\", 'A Drunken Gambler', 'Drunken Gambler',\n",
       "       'The Lurker', 'The Security Guard', 'The Attendant', 'Attendant',\n",
       "       'Croupler', 'Hitchhiker', 'Stephanie', 'Karin', 'Meg', 'Russell',\n",
       "       'The Potential Roommate', 'The Professor', 'Casting Director #1',\n",
       "       'Casting Director #2', 'Casting Director #3', 'A Crew Member',\n",
       "       'Alex', 'A Student', 'Guy #1', 'Guy #2', 'The Porsche Owner',\n",
       "       'Judge', 'Passerby', 'Janine Lecroix', 'Ralph Lauren', 'Hillary',\n",
       "       'Tall Guy', 'Patron', 'Customers', 'Jill Green', 'A Male Customer',\n",
       "       'The Fan', 'Buffay', 'The Vampire', \"Man's Voice\",\n",
       "       \"Another Man's Voice\", \"Same Man's Voice\", \"Monica's Boyfriend\",\n",
       "       'Guy All The Way In The Back', 'Dr. Wesley', 'Hope', 'Dr. Roger',\n",
       "       'Arthur', 'Jack', \"Joey's Look-A-Like\", \"Carl (Joey's lookalike)\",\n",
       "       'The Instructor', \"Janice's Voice\", 'Burt', 'Elizabeth Stevens',\n",
       "       'Fireman #1', 'Dana Keystone', 'Fireman #2', 'Mel',\n",
       "       'Professor Feesen', 'Sebastian', 'Eldad', 'Patrick',\n",
       "       'The Producer', 'Wayne', 'C.H.E.E.S.E.', 'Paul Stevens',\n",
       "       'The Dry Cleaner', 'The Museum Official', 'Female Clerk',\n",
       "       'Male Jeweler', 'Female Jeweler', 'Mr. Thompson', 'Zoe', 'Sarah',\n",
       "       'First Dorm Guy', 'Second Dorm Guy', \"Matire'D\", 'Lisa',\n",
       "       'Emil Alexander', 'Mr. Bowmont', 'Narrator', 'Mac', 'Hilda',\n",
       "       'Tag Jones', 'Nurse #1', 'Nurse #2', 'Dr. Stryker Remoray',\n",
       "       'Melissa Warburton', 'The Photographer', 'The Cute Guy', 'Whitney',\n",
       "       'Julie Graff', \"Joey's Date\", 'Erin', 'Female Student',\n",
       "       'Male Student', 'The Waitress', 'The Colonel', 'The Librarian',\n",
       "       'The Head Librarian', 'The Knocker', 'The Woman', \"Maitre D'\",\n",
       "       'Male Guest', 'Salesman', 'The Wedding Guest', 'The Second Guest',\n",
       "       'Aunt Millie', 'Smoke Detector', 'A Disembodied Voice',\n",
       "       'The Fireman', 'Supervisor', 'Earl', 'The \"Hey Guy\" Guy', 'Marge',\n",
       "       'The Man In The Sportscar', 'Dina', 'Jessica Lockhart', 'Cecilia',\n",
       "       'The Writer', 'Fredrick', 'Matthew Perry', 'Lisa Kudrow',\n",
       "       'Kristen Leigh', 'Megan Bailey', 'A Woman', 'Lewis', 'Ned Morse',\n",
       "       'Jake', 'The Presenter', 'Jessica Ashley', 'Cassie Geller',\n",
       "       'The Other Woman', 'Waiter In Drag', 'Helena', 'Policeman',\n",
       "       'The Chorus Line', 'The Assistant Director', 'Charles Bing',\n",
       "       'The Rabbi', 'Photographer', 'Bandleader', 'Mona',\n",
       "       'Dennis Phillips', 'Little Girl', 'Second Girl', 'Ashley',\n",
       "       'Fat Girl', 'Gert', 'Front Desk Clerk', 'Woman At The Wedding',\n",
       "       'Man At The Wedding', 'Anxious Wedding Guest', 'Airline Employee',\n",
       "       'Dr. Long', 'Kristen', 'Tim', 'Mr. Franklin',\n",
       "       \"Bob (Chandler's coworker)\", 'Kash', 'Witch', 'Clown', 'Cowgirl',\n",
       "       'Ballerina', 'Eric', 'Boy In The Cape',\n",
       "       \"Mrs. Verhoeven's Daughter\", 'Brenda', 'Stripper', 'Hooker', 'Stu',\n",
       "       'Will Colbert', 'Bobby Corso', 'Trudie Styler', 'Dr. Schiff',\n",
       "       'Locksmith', 'Man On Tv', 'Woman On Tv', 'Don', 'Waiter No. 2',\n",
       "       'Jim', \"Mona's Date\", 'Parker', 'Aunt Lisa', 'Uncle Dan',\n",
       "       'The Interviewer', 'Janine', 'Ray', 'Cashier', 'The Food Critic',\n",
       "       'The Cooking Teacher', 'Katie (saleswoman)', 'The Acting Teacher',\n",
       "       'Julie Coreger', 'Marc Coreger', 'Evil Bitch', 'Sick Bastard',\n",
       "       'Woman Giving Birth', 'Cliff', 'Sid Goralnik', 'Ms. Mckenna',\n",
       "       'Mike Hannigan', 'Mary Ellen', 'Dr. Gettleman', 'Sally', 'Boy',\n",
       "       'Hayley', \"Hayley's Roommate\", 'Ken', 'Claudia', 'Waiters',\n",
       "       'Prospective Nanny', 'Catherine', 'Bitsy Hannigan', 'Theodore',\n",
       "       'Woman At Door', 'Amy Green', 'Jo Lynn', 'Bill', 'Kevin', 'Wendy',\n",
       "       'Others', 'Gavin Mitchell', 'Extra', 'Another Extra', 'Molly',\n",
       "       'Heather', 'Salon Girl', 'Sonia', 'Blonde Girl', 'Michelle',\n",
       "       'Her Friend', 'Steve', 'Waiter #2', 'Intern', 'Lennart',\n",
       "       'Producer #1', 'Lowell (mugger)', 'Boss', 'Handyman',\n",
       "       'Strange Man', 'Manny', 'Kori', 'Racel', 'Message',\n",
       "       'Second Message', 'Olivia', 'Chase Lassiter', '1st Customer',\n",
       "       'Chandlers', 'Charlie Wheeler', 'Professor Spafford', 'Jane',\n",
       "       'Kyle Lowder', 'Matthew Ashford', 'Bitter Lady', 'Dirk',\n",
       "       'Bitter Woman', 'Doctor Connelly', 'Professor Sherman',\n",
       "       'Shop Assistant', 'Zack', 'Jeanette', 'Man With A Bow Tie',\n",
       "       'Alexandra Steele', 'Jarvis Oberblau', 'Paleontologist',\n",
       "       'Professore Clerk', 'Precious', 'Colleen', 'Owen', 'Assistant',\n",
       "       'Amanda Buffamonteezi', 'Glenda', 'Emma', 'Benjamin Hobart',\n",
       "       'Dr. Li', 'Dr. Biely', 'Charity Guy', 'Laura', 'Agency Guy',\n",
       "       'Erica', 'Adoption Agency Guy', 'Missy Goldberg', 'Donny Osmond',\n",
       "       'Gene', 'Henrietta', 'Adrienne', \"Mike's Mother\", \"Mike's Father\",\n",
       "       \"Mike's Mom\", \"Mike's Dad\", 'Tape', 'Casting Assistant',\n",
       "       'Mr. Campbell', 'Realtor', 'Mackenzie', 'Rita', 'Lady',\n",
       "       'Jennifer Aniston', 'Gate Attendant #1', 'Passenger #1',\n",
       "       'Air Stewardess', 'Passenger #2', 'Passenger #3',\n",
       "       'Gate Attendant #2'], dtype=object)"
      ]
     },
     "execution_count": 86,
     "metadata": {},
     "output_type": "execute_result"
    }
   ],
   "source": [
    "#Get unique values\n",
    "speakers = df_exam1.speaker.unique()\n",
    "print(f'There is {len(speakers)} different speakers')\n",
    "print(f'These speakers are: ')\n",
    "speakers"
   ]
  },
  {
   "cell_type": "markdown",
   "id": "b288ddb2",
   "metadata": {},
   "source": [
    "B)"
   ]
  },
  {
   "cell_type": "code",
   "execution_count": 87,
   "id": "5404ade1",
   "metadata": {},
   "outputs": [
    {
     "name": "stdout",
     "output_type": "stream",
     "text": [
      "There are 3107 different conversations\n",
      "These conversations ids are: \n"
     ]
    },
    {
     "data": {
      "text/plain": [
       "array(['s01_e01_c01_u001', 's01_e01_c02_u001', 's01_e01_c03_u001', ...,\n",
       "       's10_e18_c09_u000', 's10_e18_c10_u000', 's10_e18_c11_u000'],\n",
       "      dtype=object)"
      ]
     },
     "execution_count": 87,
     "metadata": {},
     "output_type": "execute_result"
    }
   ],
   "source": [
    "#Get unique conv ID\n",
    "conversations = df_exam1.conversation_id.unique()\n",
    "print(f'There are {len(conversations)} different conversations')\n",
    "print(f'These conversations ids are: ')\n",
    "conversations"
   ]
  },
  {
   "cell_type": "markdown",
   "id": "b7473f59",
   "metadata": {},
   "source": [
    "C)"
   ]
  },
  {
   "cell_type": "code",
   "execution_count": 88,
   "id": "379647b1",
   "metadata": {},
   "outputs": [],
   "source": [
    "#Remove rows where the speaker is \"TRANSCRIPT_NOTE\" or \"#ALL#\"\n",
    "df_exam1_clean = df_exam1[~df_exam1['speaker'].isin(['TRANSCRIPT_NOTE','#ALL#'])].copy(deep=True)"
   ]
  },
  {
   "cell_type": "code",
   "execution_count": 89,
   "id": "f1c3f6e8",
   "metadata": {},
   "outputs": [
    {
     "data": {
      "text/html": [
       "<div>\n",
       "<style scoped>\n",
       "    .dataframe tbody tr th:only-of-type {\n",
       "        vertical-align: middle;\n",
       "    }\n",
       "\n",
       "    .dataframe tbody tr th {\n",
       "        vertical-align: top;\n",
       "    }\n",
       "\n",
       "    .dataframe thead th {\n",
       "        text-align: right;\n",
       "    }\n",
       "</style>\n",
       "<table border=\"1\" class=\"dataframe\">\n",
       "  <thead>\n",
       "    <tr style=\"text-align: right;\">\n",
       "      <th></th>\n",
       "      <th>id</th>\n",
       "      <th>conversation_id</th>\n",
       "      <th>text</th>\n",
       "      <th>speaker</th>\n",
       "      <th>reply-to</th>\n",
       "    </tr>\n",
       "  </thead>\n",
       "  <tbody>\n",
       "  </tbody>\n",
       "</table>\n",
       "</div>"
      ],
      "text/plain": [
       "Empty DataFrame\n",
       "Columns: [id, conversation_id, text, speaker, reply-to]\n",
       "Index: []"
      ]
     },
     "execution_count": 89,
     "metadata": {},
     "output_type": "execute_result"
    }
   ],
   "source": [
    "#sanity check\n",
    "df_exam1_clean[df_exam1_clean['speaker'] == 'TRANSCRIPT_NOTE']"
   ]
  },
  {
   "cell_type": "code",
   "execution_count": 90,
   "id": "f4dd000b",
   "metadata": {},
   "outputs": [
    {
     "data": {
      "text/html": [
       "<div>\n",
       "<style scoped>\n",
       "    .dataframe tbody tr th:only-of-type {\n",
       "        vertical-align: middle;\n",
       "    }\n",
       "\n",
       "    .dataframe tbody tr th {\n",
       "        vertical-align: top;\n",
       "    }\n",
       "\n",
       "    .dataframe thead th {\n",
       "        text-align: right;\n",
       "    }\n",
       "</style>\n",
       "<table border=\"1\" class=\"dataframe\">\n",
       "  <thead>\n",
       "    <tr style=\"text-align: right;\">\n",
       "      <th></th>\n",
       "      <th>id</th>\n",
       "      <th>conversation_id</th>\n",
       "      <th>text</th>\n",
       "      <th>speaker</th>\n",
       "      <th>reply-to</th>\n",
       "    </tr>\n",
       "  </thead>\n",
       "  <tbody>\n",
       "  </tbody>\n",
       "</table>\n",
       "</div>"
      ],
      "text/plain": [
       "Empty DataFrame\n",
       "Columns: [id, conversation_id, text, speaker, reply-to]\n",
       "Index: []"
      ]
     },
     "execution_count": 90,
     "metadata": {},
     "output_type": "execute_result"
    }
   ],
   "source": [
    "#sanity check\n",
    "df_exam1_clean[df_exam1_clean['speaker'] == '#ALL#']"
   ]
  },
  {
   "cell_type": "markdown",
   "id": "a4cabee1",
   "metadata": {},
   "source": [
    " D)"
   ]
  },
  {
   "cell_type": "code",
   "execution_count": 91,
   "id": "94cbd4f6",
   "metadata": {},
   "outputs": [],
   "source": [
    "def create_season_episode(id):\n",
    "    \"\"\"This function creates the season and episode for each row\n",
    "    Arg:\n",
    "        id: id of a row (example: s10_e18_c11_u019)\n",
    "    Return: \n",
    "        season: The corresponding season (s10)\n",
    "        episode: The corresponding episode (e18)\n",
    "    \"\"\"\n",
    "    elements = id.split('_')\n",
    "    season = elements[0]\n",
    "    episode = elements[1]\n",
    "    return season, episode"
   ]
  },
  {
   "cell_type": "code",
   "execution_count": 92,
   "id": "077a32ea",
   "metadata": {},
   "outputs": [],
   "source": [
    "seasons = []\n",
    "episodes = []\n",
    "\n",
    "#iterate over the rows of the cleaned DataFrame\n",
    "for idx_row, row in df_exam1_clean.iterrows():\n",
    "    id_row = row.id\n",
    "    season, episode = create_season_episode(id_row)\n",
    "\n",
    "    #Get arguments\n",
    "    seasons.append(season)\n",
    "    episodes.append(episode)\n",
    "df_exam1_clean['season'] = seasons\n",
    "df_exam1_clean['episode'] = episodes"
   ]
  },
  {
   "cell_type": "code",
   "execution_count": 93,
   "id": "586b7852",
   "metadata": {},
   "outputs": [
    {
     "data": {
      "text/html": [
       "<div>\n",
       "<style scoped>\n",
       "    .dataframe tbody tr th:only-of-type {\n",
       "        vertical-align: middle;\n",
       "    }\n",
       "\n",
       "    .dataframe tbody tr th {\n",
       "        vertical-align: top;\n",
       "    }\n",
       "\n",
       "    .dataframe thead th {\n",
       "        text-align: right;\n",
       "    }\n",
       "</style>\n",
       "<table border=\"1\" class=\"dataframe\">\n",
       "  <thead>\n",
       "    <tr style=\"text-align: right;\">\n",
       "      <th></th>\n",
       "      <th>id</th>\n",
       "      <th>season</th>\n",
       "      <th>episode</th>\n",
       "    </tr>\n",
       "  </thead>\n",
       "  <tbody>\n",
       "    <tr>\n",
       "      <th>67370</th>\n",
       "      <td>s10_e18_c11_u019</td>\n",
       "      <td>s10</td>\n",
       "      <td>e18</td>\n",
       "    </tr>\n",
       "  </tbody>\n",
       "</table>\n",
       "</div>"
      ],
      "text/plain": [
       "                     id season episode\n",
       "67370  s10_e18_c11_u019    s10     e18"
      ]
     },
     "execution_count": 93,
     "metadata": {},
     "output_type": "execute_result"
    }
   ],
   "source": [
    "#Print informations of s10_e18_c11_u019\n",
    "df_exam1_clean.query(\"id == 's10_e18_c11_u019'\")[['id','season','episode']]"
   ]
  },
  {
   "cell_type": "markdown",
   "id": "68506efd",
   "metadata": {},
   "source": [
    "E)"
   ]
  },
  {
   "cell_type": "code",
   "execution_count": 94,
   "id": "d489d167",
   "metadata": {},
   "outputs": [],
   "source": [
    "#calculating the length of the text column\n",
    "df_exam1_clean['length'] = df_exam1_clean['text'].apply(lambda x: len(x))"
   ]
  },
  {
   "cell_type": "code",
   "execution_count": 95,
   "id": "287656ab",
   "metadata": {},
   "outputs": [
    {
     "data": {
      "text/html": [
       "<div>\n",
       "<style scoped>\n",
       "    .dataframe tbody tr th:only-of-type {\n",
       "        vertical-align: middle;\n",
       "    }\n",
       "\n",
       "    .dataframe tbody tr th {\n",
       "        vertical-align: top;\n",
       "    }\n",
       "\n",
       "    .dataframe thead th {\n",
       "        text-align: right;\n",
       "    }\n",
       "</style>\n",
       "<table border=\"1\" class=\"dataframe\">\n",
       "  <thead>\n",
       "    <tr style=\"text-align: right;\">\n",
       "      <th></th>\n",
       "      <th>id</th>\n",
       "      <th>length</th>\n",
       "    </tr>\n",
       "  </thead>\n",
       "  <tbody>\n",
       "    <tr>\n",
       "      <th>67370</th>\n",
       "      <td>s10_e18_c11_u019</td>\n",
       "      <td>17</td>\n",
       "    </tr>\n",
       "  </tbody>\n",
       "</table>\n",
       "</div>"
      ],
      "text/plain": [
       "                     id  length\n",
       "67370  s10_e18_c11_u019      17"
      ]
     },
     "execution_count": 95,
     "metadata": {},
     "output_type": "execute_result"
    }
   ],
   "source": [
    "#print the length for s10_e18_c11_u019\n",
    "df_exam1_clean.query(\"id == 's10_e18_c11_u019'\")[['id','length']]"
   ]
  },
  {
   "cell_type": "markdown",
   "id": "60d3bdc7",
   "metadata": {},
   "source": [
    "**1.2** Next, you conduct some basic analyses:\n",
    "\n",
    " A. With `statsmodels`, fit a linear regression `length ~ C(season, Treatment(reference=\"s01\"))`, where length is an integer and season is a categorical variable. Print the regression summary.\n",
    " \n",
    " B. /**Discuss:/** Considering the regression summary:\n",
    "   - What does the intercept in this regression represent? \n",
    "   - What does the coefficient `C(season, Treatment(reference=\"s01\"))[T.s09]` represent? \n",
    "   - Does the average utterance in season 9 contain significantly more characters than in season 1 at the 0.05 significance level? Justify with the regression summary **only**. \n",
    "   - Does the average utterance in season 10 contain significantly more characters than in season 1 at the 0.05 significance level? Justify with the regression summary  **only** .\n",
    "\n",
    " C. Argue visually (i.e., with a plot) that there are 6 main characters in the show."
   ]
  },
  {
   "cell_type": "markdown",
   "id": "5a78c1f6",
   "metadata": {},
   "source": [
    "A)"
   ]
  },
  {
   "cell_type": "code",
   "execution_count": 96,
   "id": "70d28ac0",
   "metadata": {},
   "outputs": [
    {
     "data": {
      "text/plain": [
       "dtype('int64')"
      ]
     },
     "execution_count": 96,
     "metadata": {},
     "output_type": "execute_result"
    }
   ],
   "source": [
    "#Check type of length\n",
    "df_exam1_clean.length.dtype"
   ]
  },
  {
   "cell_type": "code",
   "execution_count": 97,
   "id": "bf0b3c34",
   "metadata": {},
   "outputs": [
    {
     "name": "stdout",
     "output_type": "stream",
     "text": [
      "                            OLS Regression Results                            \n",
      "==============================================================================\n",
      "Dep. Variable:                 length   R-squared:                       0.001\n",
      "Model:                            OLS   Adj. R-squared:                  0.001\n",
      "Method:                 Least Squares   F-statistic:                     8.058\n",
      "Date:                Tue, 16 Jan 2024   Prob (F-statistic):           4.96e-12\n",
      "Time:                        16:25:30   Log-Likelihood:            -3.2981e+05\n",
      "No. Observations:               60985   AIC:                         6.596e+05\n",
      "Df Residuals:                   60975   BIC:                         6.597e+05\n",
      "Df Model:                           9                                         \n",
      "Covariance Type:            nonrobust                                         \n",
      "================================================================================================================\n",
      "                                                   coef    std err          t      P>|t|      [0.025      0.975]\n",
      "----------------------------------------------------------------------------------------------------------------\n",
      "Intercept                                       51.0190      0.704     72.464      0.000      49.639      52.399\n",
      "C(season, Treatment(reference=\"s01\"))[T.s02]     2.2764      1.004      2.268      0.023       0.309       4.243\n",
      "C(season, Treatment(reference=\"s01\"))[T.s03]     1.1906      0.974      1.222      0.222      -0.718       3.100\n",
      "C(season, Treatment(reference=\"s01\"))[T.s04]     0.6674      0.980      0.681      0.496      -1.253       2.588\n",
      "C(season, Treatment(reference=\"s01\"))[T.s05]    -0.3185      0.984     -0.324      0.746      -2.247       1.610\n",
      "C(season, Treatment(reference=\"s01\"))[T.s06]     1.9612      0.974      2.013      0.044       0.052       3.871\n",
      "C(season, Treatment(reference=\"s01\"))[T.s07]     0.3712      0.979      0.379      0.705      -1.548       2.290\n",
      "C(season, Treatment(reference=\"s01\"))[T.s08]     1.1265      0.982      1.147      0.251      -0.799       3.052\n",
      "C(season, Treatment(reference=\"s01\"))[T.s09]     6.0889      0.979      6.222      0.000       4.171       8.007\n",
      "C(season, Treatment(reference=\"s01\"))[T.s10]    -0.8470      1.026     -0.825      0.409      -2.858       1.164\n",
      "==============================================================================\n",
      "Omnibus:                    39360.499   Durbin-Watson:                   1.966\n",
      "Prob(Omnibus):                  0.000   Jarque-Bera (JB):           721113.209\n",
      "Skew:                           2.832   Prob(JB):                         0.00\n",
      "Kurtosis:                      18.865   Cond. No.                         11.1\n",
      "==============================================================================\n",
      "\n",
      "Notes:\n",
      "[1] Standard Errors assume that the covariance matrix of the errors is correctly specified.\n"
     ]
    }
   ],
   "source": [
    "import statsmodels.formula.api as smf\n",
    "\n",
    "mod = smf.ols(formula='length ~ C(season, Treatment(reference=\"s01\"))', data=df_exam1_clean)\n",
    "\n",
    "res = mod.fit()\n",
    "\n",
    "print(res.summary())"
   ]
  },
  {
   "cell_type": "markdown",
   "id": "f1c8ddcc",
   "metadata": {},
   "source": [
    "- The intercept represent the mean length of the text when taking the first season by reference.\n",
    "- The coefficient `C(season, Treatment(reference=\"s01\"))[T.s09]` represents the increased (mean)length for the season 09 compared to the first one.\n",
    "- The p-value is 0.00 for this coefficient. Therefore the coefficient is significant. As it is positive (6.0889), the average is significantly higher for this season. "
   ]
  },
  {
   "cell_type": "markdown",
   "id": "e441cef9",
   "metadata": {},
   "source": [
    "C)"
   ]
  },
  {
   "cell_type": "code",
   "execution_count": 98,
   "id": "fc15b498",
   "metadata": {},
   "outputs": [],
   "source": [
    "import seaborn as sns\n",
    "import matplotlib.pyplot as plt"
   ]
  },
  {
   "cell_type": "code",
   "execution_count": 99,
   "id": "2ce88588",
   "metadata": {},
   "outputs": [],
   "source": [
    "#obtain occurence of speaker statistic\n",
    "character_occurrence = df_exam1_clean.speaker.value_counts().reset_index()"
   ]
  },
  {
   "cell_type": "code",
   "execution_count": 100,
   "id": "984cb1d9",
   "metadata": {},
   "outputs": [
    {
     "data": {
      "text/html": [
       "<div>\n",
       "<style scoped>\n",
       "    .dataframe tbody tr th:only-of-type {\n",
       "        vertical-align: middle;\n",
       "    }\n",
       "\n",
       "    .dataframe tbody tr th {\n",
       "        vertical-align: top;\n",
       "    }\n",
       "\n",
       "    .dataframe thead th {\n",
       "        text-align: right;\n",
       "    }\n",
       "</style>\n",
       "<table border=\"1\" class=\"dataframe\">\n",
       "  <thead>\n",
       "    <tr style=\"text-align: right;\">\n",
       "      <th></th>\n",
       "      <th>character</th>\n",
       "      <th>occurence</th>\n",
       "    </tr>\n",
       "  </thead>\n",
       "  <tbody>\n",
       "    <tr>\n",
       "      <th>0</th>\n",
       "      <td>Rachel Green</td>\n",
       "      <td>9331</td>\n",
       "    </tr>\n",
       "    <tr>\n",
       "      <th>1</th>\n",
       "      <td>Ross Geller</td>\n",
       "      <td>9161</td>\n",
       "    </tr>\n",
       "    <tr>\n",
       "      <th>2</th>\n",
       "      <td>Chandler Bing</td>\n",
       "      <td>8568</td>\n",
       "    </tr>\n",
       "    <tr>\n",
       "      <th>3</th>\n",
       "      <td>Monica Geller</td>\n",
       "      <td>8498</td>\n",
       "    </tr>\n",
       "    <tr>\n",
       "      <th>4</th>\n",
       "      <td>Joey Tribbiani</td>\n",
       "      <td>8215</td>\n",
       "    </tr>\n",
       "    <tr>\n",
       "      <th>...</th>\n",
       "      <td>...</td>\n",
       "      <td>...</td>\n",
       "    </tr>\n",
       "    <tr>\n",
       "      <th>644</th>\n",
       "      <td>Clown</td>\n",
       "      <td>1</td>\n",
       "    </tr>\n",
       "    <tr>\n",
       "      <th>645</th>\n",
       "      <td>Cowgirl</td>\n",
       "      <td>1</td>\n",
       "    </tr>\n",
       "    <tr>\n",
       "      <th>646</th>\n",
       "      <td>Locksmith</td>\n",
       "      <td>1</td>\n",
       "    </tr>\n",
       "    <tr>\n",
       "      <th>647</th>\n",
       "      <td>A Waiter</td>\n",
       "      <td>1</td>\n",
       "    </tr>\n",
       "    <tr>\n",
       "      <th>648</th>\n",
       "      <td>The Woman From Poughkeepsie</td>\n",
       "      <td>1</td>\n",
       "    </tr>\n",
       "  </tbody>\n",
       "</table>\n",
       "<p>698 rows × 2 columns</p>\n",
       "</div>"
      ],
      "text/plain": [
       "                       character  occurence\n",
       "0                   Rachel Green       9331\n",
       "1                    Ross Geller       9161\n",
       "2                  Chandler Bing       8568\n",
       "3                  Monica Geller       8498\n",
       "4                 Joey Tribbiani       8215\n",
       "..                           ...        ...\n",
       "644                        Clown          1\n",
       "645                      Cowgirl          1\n",
       "646                    Locksmith          1\n",
       "647                     A Waiter          1\n",
       "648  The Woman From Poughkeepsie          1\n",
       "\n",
       "[698 rows x 2 columns]"
      ]
     },
     "execution_count": 100,
     "metadata": {},
     "output_type": "execute_result"
    }
   ],
   "source": [
    "character_occurrence.rename(columns={'index':'character','speaker':'occurence'},inplace=True)\n",
    "character_occurrence.sort_values(by='occurence',ascending=False)"
   ]
  },
  {
   "cell_type": "code",
   "execution_count": 101,
   "id": "33558cb3",
   "metadata": {},
   "outputs": [
    {
     "data": {
      "image/png": "[encoded data removed]",
      "text/plain": [
       "<Figure size 640x480 with 1 Axes>"
      ]
     },
     "metadata": {},
     "output_type": "display_data"
    }
   ],
   "source": [
    "sns.barplot(data=character_occurrence[:15],y='occurence', x='character')\n",
    "plt.xticks(rotation=90)\n",
    "plt.title(f'Occurence of the 15th main characters')\n",
    "plt.tight_layout()\n",
    "plt.show()"
   ]
  },
  {
   "cell_type": "markdown",
   "id": "15cbe6c8",
   "metadata": {},
   "source": [
    "From this plot, one can see that there is 6 characters that ermerges (Rachel,Ross,Chandler, Monica, Joey and Phoebe)."
   ]
  },
  {
   "cell_type": "markdown",
   "id": "eeb47cab",
   "metadata": {},
   "source": [
    "--- \n",
    "**1.3 —** Using `networkx` \n",
    "\n",
    "A. Create a `MultiDiGraph` (directed graph with self loops and parallel edges) where:\n",
    "- Each node $u$ is a character uniquely identified by the `speaker` field.\n",
    "- There is an edge between nodes $u$ and $v$ if $u$ replied to $v$. If an utterance (a row in the dataframe) is said in reply to nobody, then it will not correspond to an edge. Each edge should contain two attributes. Each edge should have two attributes: `season` and `episode`.\n",
    "\n",
    "B. Print the number of nodes and edges in your graph.\n",
    "\n",
    "C. **/Discuss:/** Instead of using multi-edges, what would be another way in which you could capture the number of replies associated with each node pair?\n"
   ]
  },
  {
   "cell_type": "code",
   "execution_count": 102,
   "id": "fce4bd12",
   "metadata": {},
   "outputs": [],
   "source": [
    "# When None in 'reply-to', I assume that the character replies to itself\n",
    "df_exam1_clean['reply-to'].fillna(df_exam1_clean['id'],inplace=True)"
   ]
  },
  {
   "cell_type": "code",
   "execution_count": 104,
   "id": "db9f65f8",
   "metadata": {},
   "outputs": [],
   "source": [
    "#Create a dataFrame of speaker with scene id\n",
    "df_character = df_exam1_clean[['id','speaker']].copy(deep=True)\n",
    "df_character.rename(columns={'id':'scene_id','speaker':'reply_char'},inplace=True)"
   ]
  },
  {
   "cell_type": "code",
   "execution_count": 110,
   "id": "b4be4151",
   "metadata": {},
   "outputs": [],
   "source": [
    "#Merge with the original DataFrame to access reply character\n",
    "df_exam1_clean = pd.merge(df_exam1_clean,df_character, left_on='reply-to', right_on='scene_id',how='left')"
   ]
  },
  {
   "cell_type": "code",
   "execution_count": 112,
   "id": "efa4b841",
   "metadata": {},
   "outputs": [],
   "source": [
    "#Drop duplicate column\n",
    "df_exam1_clean.drop(columns='conversation_id',inplace=True)"
   ]
  },
  {
   "cell_type": "code",
   "execution_count": 136,
   "id": "9f362612",
   "metadata": {},
   "outputs": [],
   "source": [
    "#Create the network\n",
    "\n",
    "#Add nodes and edges\n",
    "G = nx.from_pandas_edgelist(df_exam1_clean, source='speaker',target='reply_char',edge_attr=['season','episode'],create_using=nx.MultiDiGraph)"
   ]
  },
  {
   "cell_type": "markdown",
   "id": "5e1e3488",
   "metadata": {},
   "source": [
    "B)"
   ]
  },
  {
   "cell_type": "code",
   "execution_count": 137,
   "id": "fbb7396f",
   "metadata": {},
   "outputs": [
    {
     "name": "stdout",
     "output_type": "stream",
     "text": [
      "There is 699 nodes\n",
      "There are 60985 edges\n"
     ]
    }
   ],
   "source": [
    "#Print statistic\n",
    "print(f'There is {len(G.nodes)} nodes')\n",
    "print(f'There are {len(G.edges)} edges')"
   ]
  },
  {
   "cell_type": "markdown",
   "id": "282bdac0",
   "metadata": {},
   "source": [
    "There sould be 698 edges instead of 699. One of them is duplicated..."
   ]
  },
  {
   "cell_type": "code",
   "execution_count": 145,
   "id": "54d54ba0",
   "metadata": {},
   "outputs": [
    {
     "data": {
      "text/html": [
       "<div>\n",
       "<style scoped>\n",
       "    .dataframe tbody tr th:only-of-type {\n",
       "        vertical-align: middle;\n",
       "    }\n",
       "\n",
       "    .dataframe tbody tr th {\n",
       "        vertical-align: top;\n",
       "    }\n",
       "\n",
       "    .dataframe thead th {\n",
       "        text-align: right;\n",
       "    }\n",
       "</style>\n",
       "<table border=\"1\" class=\"dataframe\">\n",
       "  <thead>\n",
       "    <tr style=\"text-align: right;\">\n",
       "      <th></th>\n",
       "      <th>id</th>\n",
       "      <th>text</th>\n",
       "      <th>speaker</th>\n",
       "      <th>reply-to</th>\n",
       "      <th>season</th>\n",
       "      <th>episode</th>\n",
       "      <th>length</th>\n",
       "      <th>scene_id</th>\n",
       "      <th>reply_char</th>\n",
       "    </tr>\n",
       "  </thead>\n",
       "  <tbody>\n",
       "  </tbody>\n",
       "</table>\n",
       "</div>"
      ],
      "text/plain": [
       "Empty DataFrame\n",
       "Columns: [id, text, speaker, reply-to, season, episode, length, scene_id, reply_char]\n",
       "Index: []"
      ]
     },
     "execution_count": 145,
     "metadata": {},
     "output_type": "execute_result"
    }
   ],
   "source": [
    "df_exam1_clean[~df_exam1_clean['speaker'].isin(list(G.nodes))]"
   ]
  },
  {
   "cell_type": "markdown",
   "id": "a861e1df",
   "metadata": {},
   "source": [
    "C)"
   ]
  },
  {
   "cell_type": "markdown",
   "id": "bec18109",
   "metadata": {},
   "source": [
    "Instead of doing a Multidigraph, we could simply calculate this statistic from the original DataFrame"
   ]
  },
  {
   "cell_type": "markdown",
   "id": "130a16f1",
   "metadata": {},
   "source": [
    "---\n",
    "With the graph ready, you set out to investigate who is the true protagonist of Friends.\n",
    "\n",
    "Ignore the graph you generated previously and instead use the graph provided in `exam2.graphml`. Note that this graph may be slightly different from what you generated, but treat it as the ground truth. We provide you with code to load the graph below.\n"
   ]
  },
  {
   "cell_type": "code",
   "execution_count": 146,
   "id": "a917d360",
   "metadata": {},
   "outputs": [],
   "source": [
    "import networkx as nx\n",
    "\n",
    "G = nx.read_graphml(\"./data/exam2.graphml\")"
   ]
  },
  {
   "cell_type": "markdown",
   "id": "6ad04b50",
   "metadata": {},
   "source": [
    "---"
   ]
  },
  {
   "cell_type": "markdown",
   "id": "53ee10e7",
   "metadata": {},
   "source": [
    "**1.4 —** Using the provided MultiDiGraph $G$:\n",
    "\n",
    "A. Calculate the out-degree of each node (also known as out-degree centrality). Please do not use the `nx.out_degree_centrality` function here, as it normalizes the degree. (E.g., if a node has 5 outgoing edges, it should have out-degree 5 according to your code.)\n",
    "\n",
    "B. Calculate the PageRank centrality of each node in $G$. Use the default parameters.\n",
    "\n",
    "C. Print both centrality metrics calculated above for the six main characters of Friends.\n",
    "\n",
    "D. **/Discuss:/** According to the metrics, who is the most important character in Friends?"
   ]
  },
  {
   "cell_type": "markdown",
   "id": "a85b9719",
   "metadata": {},
   "source": [
    "A)"
   ]
  },
  {
   "cell_type": "code",
   "execution_count": 166,
   "id": "aa8407dd",
   "metadata": {},
   "outputs": [],
   "source": [
    "#Calculating the out degree of each Node\n",
    "outdegree = {}\n",
    "for node in G.nodes:\n",
    "    outdegree[node]= len(list(G.successors(node)))"
   ]
  },
  {
   "cell_type": "markdown",
   "id": "0e865399",
   "metadata": {},
   "source": [
    "B)"
   ]
  },
  {
   "cell_type": "code",
   "execution_count": 167,
   "id": "a6b0b396",
   "metadata": {},
   "outputs": [],
   "source": [
    "#calculate the pagerank\n",
    "pr = nx.pagerank(G)"
   ]
  },
  {
   "cell_type": "markdown",
   "id": "59e375ac",
   "metadata": {},
   "source": [
    "C)"
   ]
  },
  {
   "cell_type": "code",
   "execution_count": 168,
   "id": "f7999f9a",
   "metadata": {},
   "outputs": [],
   "source": [
    "main_char = character_occurrence[:6].character.values"
   ]
  },
  {
   "cell_type": "code",
   "execution_count": 171,
   "id": "e2f90f99",
   "metadata": {},
   "outputs": [
    {
     "name": "stdout",
     "output_type": "stream",
     "text": [
      "Character: Rachel Green\n",
      "out degree: 187\n",
      "PageRank: 0.12684259753919158\n",
      "-----------------\n",
      "Character: Ross Geller\n",
      "out degree: 206\n",
      "PageRank: 0.12561115738701217\n",
      "-----------------\n",
      "Character: Chandler Bing\n",
      "out degree: 200\n",
      "PageRank: 0.1145352324808736\n",
      "-----------------\n",
      "Character: Monica Geller\n",
      "out degree: 163\n",
      "PageRank: 0.1134500759232524\n",
      "-----------------\n",
      "Character: Joey Tribbiani\n",
      "out degree: 217\n",
      "PageRank: 0.11283519639878972\n",
      "-----------------\n",
      "Character: Phoebe Buffay\n",
      "out degree: 185\n",
      "PageRank: 0.10206929426008514\n",
      "-----------------\n"
     ]
    }
   ],
   "source": [
    "for char in main_char:\n",
    "    print(f'Character: {char}')\n",
    "    print(f'out degree: {outdegree.get(char)}')\n",
    "    print(f'PageRank: {pr.get(char)}')\n",
    "    print('-----------------')"
   ]
  },
  {
   "cell_type": "markdown",
   "id": "05580392",
   "metadata": {},
   "source": [
    "D)"
   ]
  },
  {
   "cell_type": "markdown",
   "id": "5bd68ac7",
   "metadata": {},
   "source": [
    "Joey has the bigger out degree (217) but Rachel has the bigger PageRank value. Therefore, if we trust more the pagerank, Rachel is the man character."
   ]
  },
  {
   "cell_type": "markdown",
   "id": "fe9f1601",
   "metadata": {},
   "source": [
    "---\n",
    "\n",
    "**1.5 —** **/True or false:/** Considering your answer in **1.4**, are the following statements true or false? Justify your answers. \n",
    "\n",
    "A. \"If we inverted all  edges in the graph such that an edge $(u,v)$ becomes an edge $(v,u)$, the PageRank centrality would remain unchanged.\"\n",
    "\n",
    "B. \"If we removed all outgoing edges from Rachel Green, her PageRank centrality would remain unchanged.\"\n",
    "\n",
    "C. \"If a new node was introduced in the graph, with 1,000 outgoing edges towards each other node, but no incoming edge, it would have the highest PageRank centrality.\"\n"
   ]
  },
  {
   "cell_type": "markdown",
   "id": "abf413c9",
   "metadata": {},
   "source": [
    "- A : False. The PageRank centrality depends on the out degree. Switching the edges flips the out degree.\n",
    "- B : False. The PageRank centrality depends on the adjacency coefficients. Removing edges changes this matrix\n",
    "- C : False: It would have a small PageRank."
   ]
  },
  {
   "cell_type": "markdown",
   "id": "6e47355c",
   "metadata": {},
   "source": [
    "---\n",
    "\n",
    "**1.6 —** Next, you consider how these centrality metrics vary over the course of the seasons.\n",
    "\n",
    "A. Calculate the PageRank and out-degree centrality of the 6 main characters per episode, i.e., for each episode, create a graph containing only the utterances of that episode and calculate the PageRank centrality for this new graph. Print the PageRank and the out-degree of Rachel Green for the first episode of the first season.\n",
    "\n",
    "B. Considering the episode-level out-degree centrality of Phoebe Buffay in season 1 and in season 10, print the mean and the standard error of the mean.\n",
    "\n",
    "C. Create a single plot with 10 inches of width and 4 inches of height. The plot should contain two panels, containing the average PageRank centrality per season of Rachel Green and Ross Geller (Panel A), and the average out-degree per season of Rachel Green and Ross Geller (Panel B). Show 95% confidence intervals in your plot (calculated over the episodes in each season).\n",
    "\n",
    "D. **/Discuss:/** Does the plot support the hypothesis that Rachel was the show's protagonist in all 10 seasons? Explain why."
   ]
  },
  {
   "cell_type": "markdown",
   "id": "8847b453",
   "metadata": {},
   "source": [
    "A)"
   ]
  },
  {
   "cell_type": "markdown",
   "id": "94b0e5b3",
   "metadata": {},
   "source": [
    "---\n",
    "\n",
    "**1.7 —** **/True or false:/** Considering your answer in **1.6** are the following statements true or false? Justify your answer. \n",
    "\n",
    "\n",
    "A. \"In season 7, Rachel Green's episode-level PageRank and out-degree centrality are higher than Ross Geller's. This difference is statistically significant at the 0.05 significance level.\"\n",
    "\n",
    "B. \"Phoebe Buffay's out-degree grew between season 1 and season 10; this implies that other characters spoke less than her in season 10.\"\n",
    "\n",
    "C. \"Phoebe Buffay's PageRank was higher in season 10 than in season 1. This difference is statistically significant at the 0.05 significance level and suggests that the character gained importance over the course of the show.\"\n"
   ]
  },
  {
   "cell_type": "code",
   "execution_count": null,
   "id": "87e48217",
   "metadata": {},
   "outputs": [],
   "source": []
  },
  {
   "cell_type": "markdown",
   "id": "84866967",
   "metadata": {},
   "source": [
    "## Part 2: The one about text similarity (40 pts)\n",
    "\n",
    "Next, you investigate how unique characters are by analyzing what they said throughout the 10 seasons."
   ]
  },
  {
   "cell_type": "markdown",
   "id": "176a69b8",
   "metadata": {},
   "source": [
    "**2.1 —** Load the dataframe `exam3.jsonl`. This dataframe is similar to `exam1.jsonl`, except:\n",
    "\n",
    "- It has an additional column called `tokens`, containing a sentence list. Each sentence is another list composed of tokens, e.g.,\n",
    "`[['There', \"'s\", 'nothing', 'to', 'tell', '!'], ['He', \"'s\", 'just', 'some', 'guy', 'I', 'work', 'with', '!']]`.\n",
    "- It has an additional column called `episode` containing a unique episode identifier.\n",
    "- It only contains utterances by Phoebe, Rachel, Ross, Joey, Monica, or Chandler (the main characters).\n",
    " \n",
    "Given this dataframe, you will create an episode-level word-frequency matrix for Chandler Bing, one of the main characters.\n",
    "\n",
    "A. Create a list $L$ containing all distinct tokens uttered by Chandler Bing throughout the 10 seasons, sorted in ascending order. Print the 10 first and last elements of the list. \n",
    "\n",
    "B. Create a matrix $X$ with $m$ rows and $n$ columns, where: $n$ is the number of tokens in the list $L$ that you just created, and $m$ is the number of episodes (236). Each position $X_{i,j}$ in this matrix should contain the number of times the character uttered the word $j$ in episode $i$. Print how many times Chandler uttered the token `joey` in the first episode of the first season, as well as the shape of the matrix $X$.\n",
    "\n",
    "C. Transform the matrix $X$ into a TF-IDF matrix $T$, combining the following formula (as seen in class):\n",
    "\n",
    "$$\\text{TF}(i,j) = \\text{number of times the $j$-th word occurs in the $i$-th episode}$$\n",
    "\n",
    "$$\\text{IDF}(j) =  \\log \\frac{\\text{number of episodes}}{\\text{number of episodes in which the $j$-th word occurs}}$$\n",
    "\n",
    "Print the value in the TF-IDF matrix corresponding to Chandler's utterance of the token `joey` in the first episode of the first season.\n",
    "\n",
    "D. **/Discuss:/** Some of the tokens (e.g., `joey`) reference other characters. How may these tokens help a classifier predict which character uttered a sentence?"
   ]
  },
  {
   "cell_type": "code",
   "execution_count": 182,
   "id": "2e951338",
   "metadata": {},
   "outputs": [],
   "source": [
    "df_exam2 = pd.read_json(exam3_path, lines=True)"
   ]
  },
  {
   "cell_type": "code",
   "execution_count": 185,
   "id": "2830deba",
   "metadata": {},
   "outputs": [],
   "source": [
    "df_exam2_chandler = df_exam2.query(\"speaker == 'Chandler Bing'\").copy(deep=True)"
   ]
  },
  {
   "cell_type": "code",
   "execution_count": 209,
   "id": "3b23d164",
   "metadata": {},
   "outputs": [],
   "source": [
    "# Get all tokens in a list\n",
    "L = []\n",
    "for idx_row, row in df_exam2_chandler.iterrows():\n",
    "    tokens = row.tokens\n",
    "    #make only one list per row\n",
    "    flat_tokens = [x for xs in tokens for x in xs]\n",
    "    L.append(flat_tokens)\n",
    "\n",
    "#make only one list of tokens\n",
    "L = sorted([x for xs in L for x in xs])"
   ]
  },
  {
   "cell_type": "code",
   "execution_count": 217,
   "id": "539fdf88",
   "metadata": {},
   "outputs": [],
   "source": [
    "from collections import Counter\n",
    "L = Counter(L)\n",
    "L = sorted(L)"
   ]
  },
  {
   "cell_type": "code",
   "execution_count": 219,
   "id": "fa2c2a5f",
   "metadata": {},
   "outputs": [
    {
     "data": {
      "text/plain": [
       "['!', '!!', '!!!', '!!!!', '!!!!!', '!!!!!!!', '!..', '!...', '!?', '\"']"
      ]
     },
     "execution_count": 219,
     "metadata": {},
     "output_type": "execute_result"
    }
   ],
   "source": [
    "#print 10 firsts\n",
    "L[:10]"
   ]
  },
  {
   "cell_type": "code",
   "execution_count": 222,
   "id": "115433d1",
   "metadata": {},
   "outputs": [
    {
     "data": {
      "text/plain": [
       "['yummy', 'yup', 'zack', 'zero', 'zip', 'zone', 'zoo', 'zorps', '{', '}']"
      ]
     },
     "execution_count": 222,
     "metadata": {},
     "output_type": "execute_result"
    }
   ],
   "source": [
    "#print 10 lasts\n",
    "L[-10:]"
   ]
  },
  {
   "cell_type": "markdown",
   "id": "b3b9c647",
   "metadata": {},
   "source": [
    "B)"
   ]
  },
  {
   "cell_type": "code",
   "execution_count": 223,
   "id": "7bcf9146",
   "metadata": {},
   "outputs": [],
   "source": [
    "from sklearn.feature_extraction.text import CountVectorizer\n",
    "vectorizer = CountVectorizer()"
   ]
  },
  {
   "cell_type": "code",
   "execution_count": null,
   "id": "46aaa1da",
   "metadata": {},
   "outputs": [],
   "source": [
    "X"
   ]
  },
  {
   "cell_type": "markdown",
   "id": "9b691ae5",
   "metadata": {},
   "source": [
    "---\n",
    "For the remainder of the task, you will use the TF-IDF matrix that we compute below. Note:\n",
    "- This matrix was calculated in a slightly different way: it considers only the 1000 tokens with the highest term frequency.\n",
    "- We provide three useful variables below (`X`, `y`, and `df_tfidf`). \n",
    "    - `X` is a matrix containing the TF-IDF values for the top 1000 tokens, where each row corresponds to a character in an episode. \n",
    "    - `y` indicates which character is responsible for the utterance. Each character has a corresponding number, e.g., 2 for Monica Geller; see dictionary below. \n",
    "    - `df_tfidf` is a dataframe combining `X` with other episode and utterance-level metadata."
   ]
  },
  {
   "cell_type": "code",
   "execution_count": null,
   "id": "6e0aebac",
   "metadata": {},
   "outputs": [
    {
     "name": "stdout",
     "output_type": "stream",
     "text": [
      "X shape (51312, 1000)\n",
      "y shape (51312,)\n"
     ]
    },
    {
     "data": {
      "text/html": [
       "<div>\n",
       "<style scoped>\n",
       "    .dataframe tbody tr th:only-of-type {\n",
       "        vertical-align: middle;\n",
       "    }\n",
       "\n",
       "    .dataframe tbody tr th {\n",
       "        vertical-align: top;\n",
       "    }\n",
       "\n",
       "    .dataframe thead th {\n",
       "        text-align: right;\n",
       "    }\n",
       "</style>\n",
       "<table border=\"1\" class=\"dataframe\">\n",
       "  <thead>\n",
       "    <tr style=\"text-align: right;\">\n",
       "      <th></th>\n",
       "      <th>speaker</th>\n",
       "      <th>episode</th>\n",
       "      <th>0</th>\n",
       "      <th>1</th>\n",
       "      <th>2</th>\n",
       "      <th>3</th>\n",
       "      <th>4</th>\n",
       "      <th>5</th>\n",
       "      <th>6</th>\n",
       "      <th>7</th>\n",
       "      <th>...</th>\n",
       "      <th>990</th>\n",
       "      <th>991</th>\n",
       "      <th>992</th>\n",
       "      <th>993</th>\n",
       "      <th>994</th>\n",
       "      <th>995</th>\n",
       "      <th>996</th>\n",
       "      <th>997</th>\n",
       "      <th>998</th>\n",
       "      <th>999</th>\n",
       "    </tr>\n",
       "  </thead>\n",
       "  <tbody>\n",
       "    <tr>\n",
       "      <th>0</th>\n",
       "      <td>Monica Geller</td>\n",
       "      <td>s01_e01</td>\n",
       "      <td>0.0</td>\n",
       "      <td>0.0</td>\n",
       "      <td>0.0</td>\n",
       "      <td>0.0</td>\n",
       "      <td>0.0</td>\n",
       "      <td>0.0</td>\n",
       "      <td>0.0</td>\n",
       "      <td>0.0</td>\n",
       "      <td>...</td>\n",
       "      <td>0.0</td>\n",
       "      <td>0.0</td>\n",
       "      <td>0.0</td>\n",
       "      <td>0.0</td>\n",
       "      <td>0.0</td>\n",
       "      <td>0.0</td>\n",
       "      <td>0.0</td>\n",
       "      <td>0.0</td>\n",
       "      <td>0.0</td>\n",
       "      <td>0.0</td>\n",
       "    </tr>\n",
       "    <tr>\n",
       "      <th>1</th>\n",
       "      <td>Joey Tribbiani</td>\n",
       "      <td>s01_e01</td>\n",
       "      <td>0.0</td>\n",
       "      <td>0.0</td>\n",
       "      <td>0.0</td>\n",
       "      <td>0.0</td>\n",
       "      <td>0.0</td>\n",
       "      <td>0.0</td>\n",
       "      <td>0.0</td>\n",
       "      <td>0.0</td>\n",
       "      <td>...</td>\n",
       "      <td>0.0</td>\n",
       "      <td>0.0</td>\n",
       "      <td>0.0</td>\n",
       "      <td>0.0</td>\n",
       "      <td>0.0</td>\n",
       "      <td>0.0</td>\n",
       "      <td>0.0</td>\n",
       "      <td>0.0</td>\n",
       "      <td>0.0</td>\n",
       "      <td>0.0</td>\n",
       "    </tr>\n",
       "    <tr>\n",
       "      <th>2</th>\n",
       "      <td>Chandler Bing</td>\n",
       "      <td>s01_e01</td>\n",
       "      <td>0.0</td>\n",
       "      <td>0.0</td>\n",
       "      <td>0.0</td>\n",
       "      <td>0.0</td>\n",
       "      <td>0.0</td>\n",
       "      <td>0.0</td>\n",
       "      <td>0.0</td>\n",
       "      <td>0.0</td>\n",
       "      <td>...</td>\n",
       "      <td>0.0</td>\n",
       "      <td>0.0</td>\n",
       "      <td>0.0</td>\n",
       "      <td>0.0</td>\n",
       "      <td>0.0</td>\n",
       "      <td>0.0</td>\n",
       "      <td>0.0</td>\n",
       "      <td>0.0</td>\n",
       "      <td>0.0</td>\n",
       "      <td>0.0</td>\n",
       "    </tr>\n",
       "  </tbody>\n",
       "</table>\n",
       "<p>3 rows × 1002 columns</p>\n",
       "</div>"
      ],
      "text/plain": [
       "          speaker  episode    0    1    2    3    4    5    6    7  ...  990  \\\n",
       "0   Monica Geller  s01_e01  0.0  0.0  0.0  0.0  0.0  0.0  0.0  0.0  ...  0.0   \n",
       "1  Joey Tribbiani  s01_e01  0.0  0.0  0.0  0.0  0.0  0.0  0.0  0.0  ...  0.0   \n",
       "2   Chandler Bing  s01_e01  0.0  0.0  0.0  0.0  0.0  0.0  0.0  0.0  ...  0.0   \n",
       "\n",
       "   991  992  993  994  995  996  997  998  999  \n",
       "0  0.0  0.0  0.0  0.0  0.0  0.0  0.0  0.0  0.0  \n",
       "1  0.0  0.0  0.0  0.0  0.0  0.0  0.0  0.0  0.0  \n",
       "2  0.0  0.0  0.0  0.0  0.0  0.0  0.0  0.0  0.0  \n",
       "\n",
       "[3 rows x 1002 columns]"
      ]
     },
     "execution_count": 41,
     "metadata": {},
     "output_type": "execute_result"
    }
   ],
   "source": [
    "from sklearn.feature_extraction.text import TfidfVectorizer\n",
    "df_tfidf = pd.read_json(\"./data/exam3.jsonl\", lines=True)[[\"speaker\", \"episode\", \"text\"]]\n",
    "\n",
    "vectorizer = TfidfVectorizer(max_features=1000, stop_words=\"english\")\n",
    "X = vectorizer.fit_transform(df_tfidf.text).toarray()\n",
    "print(\"X shape\", X.shape)\n",
    "\n",
    "\n",
    "map_char_to_int = {\n",
    "'Chandler Bing': 0,\n",
    "'Joey Tribbiani': 1,\n",
    "'Monica Geller': 2,\n",
    "'Phoebe Buffay': 3,\n",
    "'Rachel Green': 4,\n",
    "'Ross Geller': 5\n",
    "}\n",
    "\n",
    "\n",
    "y = df_tfidf.speaker.apply(lambda x: map_char_to_int[x]).values\n",
    "print(\"y shape\", y.shape)\n",
    "\n",
    "df_tfidf = pd.concat([df_tfidf[[\"speaker\", \"episode\"]],  pd.DataFrame(X)], axis=1)\n",
    "\n",
    "df_tfidf.head(3)"
   ]
  },
  {
   "cell_type": "markdown",
   "id": "15f01045",
   "metadata": {},
   "source": [
    "--- "
   ]
  },
  {
   "cell_type": "markdown",
   "id": "76d6b6f1",
   "metadata": {},
   "source": [
    "**2.2 —** To compare characters, carry out a classification task. Train a decision tree classifier to predict which main character uttered a sentence..\n",
    "\n",
    "A. Split the dataset into training and test sets using sklearn `sklearn.model_selection.train_test_split` using parameters `test_size=0.3` and `random_state=42`, and using the default values for all other parameters.\n",
    "\n",
    "B. Train a decision tree classifier (`sklearn.tree.DecisionTreeClassifier`) using `random_state=42`, leaving all other parameters as their default.\n",
    "\n",
    "C. Compute the accuracy of your classifier and of a random baseline, i.e., a classifier that predicts a character uniformly at random. **/Discuss:/** Compare the two accuracies.\n",
    "\n",
    "\n",
    "D. Compute the confusion matrix of your classifier using `sklearn.metrics.confusion_matrix`. Normalize the confusion matrix such that all cells sum to 1.\n",
    "\n",
    "E. Plot an appropriate graphical representation of the confusion matrix.\n",
    "\n",
    "F. **/Discuss:/** Analyzing the confusion matrix, discuss:\n",
    "   - Which character is most distinct in the way they talk?\n",
    "   - Which two characters are the most similar in the way they talk?\n",
    "   - Which two characters are the least similar in the way they talk?\n"
   ]
  },
  {
   "cell_type": "code",
   "execution_count": null,
   "id": "03c8bf67",
   "metadata": {},
   "outputs": [],
   "source": []
  },
  {
   "cell_type": "markdown",
   "id": "1a158a88",
   "metadata": {},
   "source": [
    "---\n",
    "\n",
    "**2.3 —** **/Discuss:/** Last, you discuss the results obtained in **2.2** with a friend, who asks you some thought-provoking questions.\n",
    "\n",
    "A. Your friend proposes that you should create a measure of similarity between two characters in a given episode in a more direct way than what you've done in **2.2**.  Propose (but do not implement) said similarity metric.\n",
    "\n",
    "B. Your friend also suggests that your analysis might not truly capture how two characters differ. According to her, if people are in the same conversation, they might speak similarly simply because they are in the same social context. Propose (but do not implement) a way of creating a dataset where this confounder does not exist.\n",
    "\n",
    "C. Last, your friend complains about how you present your (normalized) confusion matrix. According to her, from reading the cells alone, it is unclear if the fraction of occurrences is higher or lower than what a random classifier would yield. Propose (but do not implement) a way of modifying the confusion matrix to address her concern.\n"
   ]
  },
  {
   "cell_type": "code",
   "execution_count": null,
   "id": "9d4253a5",
   "metadata": {},
   "outputs": [],
   "source": []
  },
  {
   "cell_type": "markdown",
   "id": "25c65d90",
   "metadata": {},
   "source": [
    "---"
   ]
  }
 ],
 "metadata": {
  "kernelspec": {
   "display_name": "Python 3 (ipykernel)",
   "language": "python",
   "name": "python3"
  },
  "language_info": {
   "codemirror_mode": {
    "name": "ipython",
    "version": 3
   },
   "file_extension": ".py",
   "mimetype": "text/x-python",
   "name": "python",
   "nbconvert_exporter": "python",
   "pygments_lexer": "ipython3",
   "version": "3.9.7"
  }
 },
 "nbformat": 4,
 "nbformat_minor": 5
}
