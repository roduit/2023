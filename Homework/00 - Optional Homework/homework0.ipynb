{
 "cells": [
  {
   "cell_type": "code",
   "execution_count": 2,
   "metadata": {},
   "outputs": [],
   "source": [
    "import pandas as pd\n",
    "import numpy as np\n",
    "import matplotlib as plt"
   ]
  },
  {
   "cell_type": "code",
   "execution_count": 41,
   "metadata": {},
   "outputs": [
    {
     "data": {
      "text/html": [
       "<div>\n",
       "<style scoped>\n",
       "    .dataframe tbody tr th:only-of-type {\n",
       "        vertical-align: middle;\n",
       "    }\n",
       "\n",
       "    .dataframe tbody tr th {\n",
       "        vertical-align: top;\n",
       "    }\n",
       "\n",
       "    .dataframe thead th {\n",
       "        text-align: right;\n",
       "    }\n",
       "</style>\n",
       "<table border=\"1\" class=\"dataframe\">\n",
       "  <thead>\n",
       "    <tr style=\"text-align: right;\">\n",
       "      <th></th>\n",
       "      <th>Intent</th>\n",
       "      <th>Gender</th>\n",
       "      <th>Age</th>\n",
       "      <th>Race</th>\n",
       "      <th>Deaths</th>\n",
       "      <th>Population</th>\n",
       "      <th>Rate</th>\n",
       "    </tr>\n",
       "  </thead>\n",
       "  <tbody>\n",
       "    <tr>\n",
       "      <th>1</th>\n",
       "      <td>None selected</td>\n",
       "      <td>None selected</td>\n",
       "      <td>None selected</td>\n",
       "      <td>None selected</td>\n",
       "      <td>33599</td>\n",
       "      <td>316299978</td>\n",
       "      <td>10.6</td>\n",
       "    </tr>\n",
       "    <tr>\n",
       "      <th>2</th>\n",
       "      <td>None selected</td>\n",
       "      <td>None selected</td>\n",
       "      <td>None selected</td>\n",
       "      <td>White</td>\n",
       "      <td>22079</td>\n",
       "      <td>197369634</td>\n",
       "      <td>11.2</td>\n",
       "    </tr>\n",
       "    <tr>\n",
       "      <th>3</th>\n",
       "      <td>None selected</td>\n",
       "      <td>None selected</td>\n",
       "      <td>None selected</td>\n",
       "      <td>Black</td>\n",
       "      <td>7765</td>\n",
       "      <td>38896382</td>\n",
       "      <td>20.0</td>\n",
       "    </tr>\n",
       "    <tr>\n",
       "      <th>4</th>\n",
       "      <td>None selected</td>\n",
       "      <td>None selected</td>\n",
       "      <td>None selected</td>\n",
       "      <td>Hispanic</td>\n",
       "      <td>3007</td>\n",
       "      <td>54049078</td>\n",
       "      <td>5.6</td>\n",
       "    </tr>\n",
       "    <tr>\n",
       "      <th>5</th>\n",
       "      <td>None selected</td>\n",
       "      <td>None selected</td>\n",
       "      <td>None selected</td>\n",
       "      <td>Asian/Pacific Islander</td>\n",
       "      <td>442</td>\n",
       "      <td>16315561</td>\n",
       "      <td>2.7</td>\n",
       "    </tr>\n",
       "    <tr>\n",
       "      <th>...</th>\n",
       "      <td>...</td>\n",
       "      <td>...</td>\n",
       "      <td>...</td>\n",
       "      <td>...</td>\n",
       "      <td>...</td>\n",
       "      <td>...</td>\n",
       "      <td>...</td>\n",
       "    </tr>\n",
       "    <tr>\n",
       "      <th>536</th>\n",
       "      <td>Unknown</td>\n",
       "      <td>Male</td>\n",
       "      <td>5</td>\n",
       "      <td>White</td>\n",
       "      <td>0</td>\n",
       "      <td>0</td>\n",
       "      <td>NaN</td>\n",
       "    </tr>\n",
       "    <tr>\n",
       "      <th>537</th>\n",
       "      <td>Unknown</td>\n",
       "      <td>Male</td>\n",
       "      <td>5</td>\n",
       "      <td>Black</td>\n",
       "      <td>0</td>\n",
       "      <td>0</td>\n",
       "      <td>NaN</td>\n",
       "    </tr>\n",
       "    <tr>\n",
       "      <th>538</th>\n",
       "      <td>Unknown</td>\n",
       "      <td>Male</td>\n",
       "      <td>5</td>\n",
       "      <td>Hispanic</td>\n",
       "      <td>0</td>\n",
       "      <td>0</td>\n",
       "      <td>NaN</td>\n",
       "    </tr>\n",
       "    <tr>\n",
       "      <th>539</th>\n",
       "      <td>Unknown</td>\n",
       "      <td>Male</td>\n",
       "      <td>5</td>\n",
       "      <td>Asian/Pacific Islander</td>\n",
       "      <td>0</td>\n",
       "      <td>0</td>\n",
       "      <td>NaN</td>\n",
       "    </tr>\n",
       "    <tr>\n",
       "      <th>540</th>\n",
       "      <td>Unknown</td>\n",
       "      <td>Male</td>\n",
       "      <td>5</td>\n",
       "      <td>Other</td>\n",
       "      <td>0</td>\n",
       "      <td>0</td>\n",
       "      <td>NaN</td>\n",
       "    </tr>\n",
       "  </tbody>\n",
       "</table>\n",
       "<p>540 rows × 7 columns</p>\n",
       "</div>"
      ],
      "text/plain": [
       "            Intent         Gender            Age                    Race   \n",
       "1    None selected  None selected  None selected           None selected  \\\n",
       "2    None selected  None selected  None selected                   White   \n",
       "3    None selected  None selected  None selected                   Black   \n",
       "4    None selected  None selected  None selected                Hispanic   \n",
       "5    None selected  None selected  None selected  Asian/Pacific Islander   \n",
       "..             ...            ...            ...                     ...   \n",
       "536        Unknown           Male              5                   White   \n",
       "537        Unknown           Male              5                   Black   \n",
       "538        Unknown           Male              5                Hispanic   \n",
       "539        Unknown           Male              5  Asian/Pacific Islander   \n",
       "540        Unknown           Male              5                   Other   \n",
       "\n",
       "     Deaths  Population  Rate  \n",
       "1     33599   316299978  10.6  \n",
       "2     22079   197369634  11.2  \n",
       "3      7765    38896382  20.0  \n",
       "4      3007    54049078   5.6  \n",
       "5       442    16315561   2.7  \n",
       "..      ...         ...   ...  \n",
       "536       0           0   NaN  \n",
       "537       0           0   NaN  \n",
       "538       0           0   NaN  \n",
       "539       0           0   NaN  \n",
       "540       0           0   NaN  \n",
       "\n",
       "[540 rows x 7 columns]"
      ]
     },
     "execution_count": 41,
     "metadata": {},
     "output_type": "execute_result"
    }
   ],
   "source": [
    "data_raw = pd.read_csv('interactive_data.csv', sep=',', index_col=[0])\n",
    "data_raw"
   ]
  },
  {
   "cell_type": "code",
   "execution_count": 59,
   "metadata": {},
   "outputs": [
    {
     "name": "stdout",
     "output_type": "stream",
     "text": [
      "The proportion male that are deads is 0.6267448435965356\n"
     ]
    }
   ],
   "source": [
    "all_deaths_columns_check = data_raw.columns[0:4]\n",
    "all_deaths = data_raw[(data_raw[all_deaths_columns_check] == 'None selected').all(axis=1)]\n",
    "\n",
    "suicide_deaths = data_raw[(data_raw['Intent'] == 'Suicide')]\n",
    "suicide_columns_to_check = suicide_deaths.columns[1:4]\n",
    "suicide_deaths = suicide_deaths[(suicide_deaths[suicide_columns_to_check] == 'None selected').all(axis=1)]\n",
    "\n",
    "sum_suicide_deaths = suicide_deaths['Deaths'].sum()\n",
    "sum_all_deaths = all_deaths['Deaths'].sum()\n",
    "\n",
    "print(f\"The proportion male that are deads is {sum_suicide_deaths/sum_all_deaths}\")"
   ]
  },
  {
   "cell_type": "code",
   "execution_count": 78,
   "metadata": {},
   "outputs": [
    {
     "name": "stdout",
     "output_type": "stream",
     "text": [
      "The proportion male that are deads is 0.8566624006666865\n"
     ]
    }
   ],
   "source": [
    "deaths_male = data_raw[data_raw['Gender'] == 'Male']\n",
    "deaths_male_columns_to_check = data_raw.columns[2:4]\n",
    "deaths_male = deaths_male[(deaths_male[deaths_male_columns_to_check] == 'None selected').all(axis=1)]\n",
    "deaths_male = deaths_male[(deaths_male['Intent'] == 'None selected')]\n",
    "sum_deaths_male = deaths_male['Deaths'].sum()\n",
    "print(f\"The proportion male that are deads is {sum_deaths_male/sum_all_deaths}\")"
   ]
  },
  {
   "cell_type": "code",
   "execution_count": 83,
   "metadata": {},
   "outputs": [
    {
     "name": "stdout",
     "output_type": "stream",
     "text": [
      "The proportion of deads due to homicide is 0.3489984820976815\n"
     ]
    }
   ],
   "source": [
    "deaths_homicide = data_raw[data_raw['Intent'] == 'Homicide']\n",
    "deaths_homicide = deaths_homicide[(deaths_homicide[deaths_homicide.columns[1:4]] == 'None selected').all(axis=1)]\n",
    "sum_deaths_homicide = deaths_homicide['Deaths'].sum()\n",
    "print(f\"The proportion of deads due to homicide is {sum_deaths_homicide/sum_all_deaths}\")"
   ]
  },
  {
   "cell_type": "code",
   "execution_count": 102,
   "metadata": {},
   "outputs": [
    {
     "name": "stdout",
     "output_type": "stream",
     "text": [
      "The proportion of deads due to homicide is 0.6613496932515337\n"
     ]
    }
   ],
   "source": [
    "deaths_male = data_raw[(data_raw['Gender'] == 'Male') & (data_raw['Intent'] == 'Homicide') & (data_raw['Age'] == '15 - 34') & (data_raw['Race'] == 'None selected')]\n",
    "deaths_black = data_raw[(data_raw['Gender'] == 'Male') & (data_raw['Intent'] == 'Homicide') & (data_raw['Age'] == '15 - 34') & (data_raw['Race'] == 'Black')]\n",
    "\n",
    "sum_deaths_male = deaths_male['Deaths'].sum()\n",
    "sum_deaths_black = deaths_black['Deaths'].sum()\n",
    "print(f\"The proportion of deads due to homicide is {sum_deaths_black/sum_deaths_male}\")"
   ]
  },
  {
   "cell_type": "code",
   "execution_count": 110,
   "metadata": {},
   "outputs": [
    {
     "name": "stdout",
     "output_type": "stream",
     "text": [
      "The proportion of deads due to homicide is 0.15273750639604297\n"
     ]
    }
   ],
   "source": [
    "deaths_homicide = data_raw[data_raw['Intent'] == 'Homicide']\n",
    "deaths_homicide = deaths_homicide[(deaths_homicide[deaths_homicide.columns[2:4]] == 'None selected').all(axis=1)]\n",
    "deaths_homicide_all = deaths_homicide[deaths_homicide['Gender'] == 'None selected']\n",
    "deaths_homicide_women = deaths_homicide[deaths_homicide['Gender'] == 'Female']\n",
    "\n",
    "sum_deaths_homicide_all = deaths_homicide_all['Deaths'].sum()\n",
    "sum_deaths_homicide_women = deaths_homicide_women['Deaths'].sum()\n",
    "\n",
    "print(f\"The proportion of deads due to homicide is {sum_deaths_homicide_women/sum_deaths_homicide_all}\")"
   ]
  },
  {
   "cell_type": "code",
   "execution_count": null,
   "metadata": {},
   "outputs": [],
   "source": []
  }
 ],
 "metadata": {
  "kernelspec": {
   "display_name": "scientific",
   "language": "python",
   "name": "python3"
  },
  "language_info": {
   "codemirror_mode": {
    "name": "ipython",
    "version": 3
   },
   "file_extension": ".py",
   "mimetype": "text/x-python",
   "name": "python",
   "nbconvert_exporter": "python",
   "pygments_lexer": "ipython3",
   "version": "3.9.13"
  },
  "orig_nbformat": 4
 },
 "nbformat": 4,
 "nbformat_minor": 2
}
