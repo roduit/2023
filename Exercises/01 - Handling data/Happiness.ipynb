{
 "cells": [
  {
   "cell_type": "markdown",
   "metadata": {},
   "source": [
    "## Data from World Happiness Report\n",
    "\n",
    "The World Happiness Report is an annual publication of the United Nations Sustainable Development Solutions Network. It contains articles, and rankings of national happiness based on respondent ratings of their own lives, which the report also correlates with various life factors.\n",
    "\n",
    "In this notebook we will explore the happiness of different countries and the features associated.\n",
    "The datasets that we will use are available in *Data*: **happiness2020.pkl** and **countries_info.csv**.\n",
    "\n",
    "Although the features are self-explanatory, here a summary: \n",
    "\n",
    "**happiness2020.pkl**\n",
    "* country: *Name of the country*\n",
    "* happiness_score: *Happiness score*\n",
    "* social_support: *Social support (mitigation the effects of inequality)*\n",
    "* healthy_life_expectancy: *Healthy Life Expectancy*\n",
    "* freedom_of_choices: *Freedom to make life choices*\n",
    "* generosity: *Generosity (charity, volunteers)*\n",
    "* perception_of_corruption: *Corruption Perception*\n",
    "* world_region: *Area of the world of the country*\n",
    "\n",
    "**countries_info.csv**\n",
    "* country_name: *Name of the country*\n",
    "* area: *Area in sq mi*\n",
    "* population: *Number of people*\n",
    "* literacy: *Literacy percentage*"
   ]
  },
  {
   "cell_type": "code",
   "execution_count": 156,
   "metadata": {},
   "outputs": [
    {
     "name": "stdout",
     "output_type": "stream",
     "text": [
      "country_name,area,population,literacy\n",
      "afghanistan,647500,31056997,\"36,0\"\n",
      "albania,28748,3581655,\"86,5\"\n",
      "algeria,2381740,32930091,\"70,0\"\n",
      "argentina,2766890,39921833,\"97,1\"\n",
      "armenia,29800,2976372,\"98,6\"\n",
      "australia,7686850,20264082,\"100,0\"\n",
      "austria,83870,8192880,\"98,0\"\n",
      "azerbaijan,86600,7961619,\"97,0\"\n",
      "bahrain,665,698585,\"89,1\"\n"
     ]
    }
   ],
   "source": [
    "!head Data/countries_info.csv"
   ]
  },
  {
   "cell_type": "code",
   "execution_count": 157,
   "metadata": {},
   "outputs": [],
   "source": [
    "import pandas as pd\n",
    "%matplotlib inline\n",
    "\n",
    "DATA_FOLDER = 'Data/'\n",
    "\n",
    "HAPPINESS_DATASET = DATA_FOLDER+\"happiness2020.csv\"\n",
    "COUNTRIES_DATASET = DATA_FOLDER+\"countries_info.csv\""
   ]
  },
  {
   "cell_type": "markdown",
   "metadata": {},
   "source": [
    "## Task 1: Load the data\n",
    "\n",
    "Load the 2 datasets in Pandas dataframes (called *happiness* and *countries*), and show the first rows.\n",
    "\n",
    "\n",
    "**Hint**: Use the correct reader and verify the data has the expected format."
   ]
  },
  {
   "cell_type": "code",
   "execution_count": 158,
   "metadata": {},
   "outputs": [
    {
     "data": {
      "text/plain": [
       "country                           Burkina Faso\n",
       "happiness_score                         4.7687\n",
       "social_support                        0.712944\n",
       "healthy_life_expectancy              53.889454\n",
       "freedom_of_choices                    0.665564\n",
       "generosity                           -0.019081\n",
       "perception_of_corruption              0.739795\n",
       "world_region                Sub-Saharan Africa\n",
       "Name: 17, dtype: object"
      ]
     },
     "execution_count": 158,
     "metadata": {},
     "output_type": "execute_result"
    }
   ],
   "source": [
    "happiness_data_raw = pd.read_csv(HAPPINESS_DATASET)\n",
    "countries_data_raw = pd.read_csv(COUNTRIES_DATASET)\n",
    "countries_data_raw.rename(columns={'country_name':'country'}, inplace=True)\n",
    "happiness_data_raw.loc[17,:]"
   ]
  },
  {
   "cell_type": "code",
   "execution_count": 159,
   "metadata": {},
   "outputs": [
    {
     "data": {
      "text/plain": [
       "country       Burkina Faso\n",
       "area                274200\n",
       "population        13902972\n",
       "literacy              26,6\n",
       "Name: 17, dtype: object"
      ]
     },
     "execution_count": 159,
     "metadata": {},
     "output_type": "execute_result"
    }
   ],
   "source": [
    "#Modifying the column used for merge in order to have the same in the two df\n",
    "def custom_capitalize(s):\n",
    "    return ' '.join(word.capitalize() for word in s.split())\n",
    "\n",
    "countries_data_raw.loc[:,'country'] = countries_data_raw['country'].apply(lambda x: custom_capitalize(x))\n",
    "countries_data_raw.loc[17,:]"
   ]
  },
  {
   "cell_type": "markdown",
   "metadata": {},
   "source": [
    "## Task 2: Let's merge the data\n",
    "\n",
    "Create a dataframe called *country_features* by merging *happiness* and *countries*. A row of this dataframe must describe all the features that we have about a country.\n",
    "\n",
    "**Hint**: Verify that all the rows are in the final dataframe."
   ]
  },
  {
   "cell_type": "code",
   "execution_count": 160,
   "metadata": {},
   "outputs": [],
   "source": [
    "country_features = pd.merge(countries_data_raw, happiness_data_raw, left_on='country', right_on='country')\n",
    "country_features['literacy'] = country_features['literacy'].str.replace(',','.')\n",
    "country_features['literacy'] = pd.to_numeric(country_features['literacy'], errors='coerce')\n"
   ]
  },
  {
   "cell_type": "markdown",
   "metadata": {},
   "source": [
    "## Task 3: Where are people happier?\n",
    "\n",
    "Print the top 10 countries based on their happiness score (higher is better)."
   ]
  },
  {
   "cell_type": "code",
   "execution_count": 161,
   "metadata": {},
   "outputs": [
    {
     "data": {
      "text/html": [
       "<div>\n",
       "<style scoped>\n",
       "    .dataframe tbody tr th:only-of-type {\n",
       "        vertical-align: middle;\n",
       "    }\n",
       "\n",
       "    .dataframe tbody tr th {\n",
       "        vertical-align: top;\n",
       "    }\n",
       "\n",
       "    .dataframe thead th {\n",
       "        text-align: right;\n",
       "    }\n",
       "</style>\n",
       "<table border=\"1\" class=\"dataframe\">\n",
       "  <thead>\n",
       "    <tr style=\"text-align: right;\">\n",
       "      <th></th>\n",
       "      <th>country</th>\n",
       "      <th>happiness_score</th>\n",
       "    </tr>\n",
       "  </thead>\n",
       "  <tbody>\n",
       "    <tr>\n",
       "      <th>38</th>\n",
       "      <td>Finland</td>\n",
       "      <td>7.8087</td>\n",
       "    </tr>\n",
       "    <tr>\n",
       "      <th>31</th>\n",
       "      <td>Denmark</td>\n",
       "      <td>7.6456</td>\n",
       "    </tr>\n",
       "    <tr>\n",
       "      <th>115</th>\n",
       "      <td>Switzerland</td>\n",
       "      <td>7.5599</td>\n",
       "    </tr>\n",
       "    <tr>\n",
       "      <th>50</th>\n",
       "      <td>Iceland</td>\n",
       "      <td>7.5045</td>\n",
       "    </tr>\n",
       "    <tr>\n",
       "      <th>92</th>\n",
       "      <td>Norway</td>\n",
       "      <td>7.4880</td>\n",
       "    </tr>\n",
       "    <tr>\n",
       "      <th>87</th>\n",
       "      <td>Netherlands</td>\n",
       "      <td>7.4489</td>\n",
       "    </tr>\n",
       "    <tr>\n",
       "      <th>114</th>\n",
       "      <td>Sweden</td>\n",
       "      <td>7.3535</td>\n",
       "    </tr>\n",
       "    <tr>\n",
       "      <th>88</th>\n",
       "      <td>New Zealand</td>\n",
       "      <td>7.2996</td>\n",
       "    </tr>\n",
       "    <tr>\n",
       "      <th>6</th>\n",
       "      <td>Austria</td>\n",
       "      <td>7.2942</td>\n",
       "    </tr>\n",
       "    <tr>\n",
       "      <th>72</th>\n",
       "      <td>Luxembourg</td>\n",
       "      <td>7.2375</td>\n",
       "    </tr>\n",
       "  </tbody>\n",
       "</table>\n",
       "</div>"
      ],
      "text/plain": [
       "         country  happiness_score\n",
       "38       Finland           7.8087\n",
       "31       Denmark           7.6456\n",
       "115  Switzerland           7.5599\n",
       "50       Iceland           7.5045\n",
       "92        Norway           7.4880\n",
       "87   Netherlands           7.4489\n",
       "114       Sweden           7.3535\n",
       "88   New Zealand           7.2996\n",
       "6        Austria           7.2942\n",
       "72    Luxembourg           7.2375"
      ]
     },
     "execution_count": 161,
     "metadata": {},
     "output_type": "execute_result"
    }
   ],
   "source": [
    "top10happiest_countries = country_features[['country','happiness_score']].sort_values(ascending=False, by='happiness_score').head(10)\n",
    "top10happiest_countries"
   ]
  },
  {
   "cell_type": "markdown",
   "metadata": {},
   "source": [
    "We are interested to know in what world region people are happier. \n",
    "\n",
    "Create and print a dataframe with the (1) average happiness score and (2) the number of countries for each world region.\n",
    "Sort the result to show the happiness ranking."
   ]
  },
  {
   "cell_type": "code",
   "execution_count": 162,
   "metadata": {},
   "outputs": [
    {
     "data": {
      "text/html": [
       "<div>\n",
       "<style scoped>\n",
       "    .dataframe tbody tr th:only-of-type {\n",
       "        vertical-align: middle;\n",
       "    }\n",
       "\n",
       "    .dataframe tbody tr th {\n",
       "        vertical-align: top;\n",
       "    }\n",
       "\n",
       "    .dataframe thead th {\n",
       "        text-align: right;\n",
       "    }\n",
       "</style>\n",
       "<table border=\"1\" class=\"dataframe\">\n",
       "  <thead>\n",
       "    <tr style=\"text-align: right;\">\n",
       "      <th></th>\n",
       "      <th>country</th>\n",
       "    </tr>\n",
       "    <tr>\n",
       "      <th>world_region</th>\n",
       "      <th></th>\n",
       "    </tr>\n",
       "  </thead>\n",
       "  <tbody>\n",
       "    <tr>\n",
       "      <th>Central and Eastern Europe</th>\n",
       "      <td>14</td>\n",
       "    </tr>\n",
       "    <tr>\n",
       "      <th>Commonwealth of Independent States</th>\n",
       "      <td>12</td>\n",
       "    </tr>\n",
       "    <tr>\n",
       "      <th>East Asia</th>\n",
       "      <td>3</td>\n",
       "    </tr>\n",
       "    <tr>\n",
       "      <th>Latin America and Caribbean</th>\n",
       "      <td>20</td>\n",
       "    </tr>\n",
       "    <tr>\n",
       "      <th>Middle East and North Africa</th>\n",
       "      <td>16</td>\n",
       "    </tr>\n",
       "  </tbody>\n",
       "</table>\n",
       "</div>"
      ],
      "text/plain": [
       "                                    country\n",
       "world_region                               \n",
       "Central and Eastern Europe               14\n",
       "Commonwealth of Independent States       12\n",
       "East Asia                                 3\n",
       "Latin America and Caribbean              20\n",
       "Middle East and North Africa             16"
      ]
     },
     "execution_count": 162,
     "metadata": {},
     "output_type": "execute_result"
    }
   ],
   "source": [
    "country_regions_data = country_features.set_index(['world_region','country']).sort_index()\n",
    "happiness_score_region = country_regions_data.groupby('world_region')['happiness_score'].mean()\n",
    "country_regions_data.reset_index(inplace=True)\n",
    "countries_sum = country_regions_data.groupby('world_region')['country'].nunique().reset_index()\n",
    "countries_sum.set_index(['world_region'], inplace=True)\n",
    "countries_sum.head()\n"
   ]
  },
  {
   "cell_type": "code",
   "execution_count": 163,
   "metadata": {},
   "outputs": [],
   "source": [
    "happiness_ranking = pd.merge(countries_sum, happiness_score_region, left_index=True, right_index=True)\n",
    "happiness_ranking.sort_values(ascending=False, by='happiness_score', inplace=True)"
   ]
  },
  {
   "cell_type": "markdown",
   "metadata": {},
   "source": [
    "The first region has only a few countries! What are them and what is their score?"
   ]
  },
  {
   "cell_type": "code",
   "execution_count": 164,
   "metadata": {},
   "outputs": [
    {
     "data": {
      "text/html": [
       "<div>\n",
       "<style scoped>\n",
       "    .dataframe tbody tr th:only-of-type {\n",
       "        vertical-align: middle;\n",
       "    }\n",
       "\n",
       "    .dataframe tbody tr th {\n",
       "        vertical-align: top;\n",
       "    }\n",
       "\n",
       "    .dataframe thead th {\n",
       "        text-align: right;\n",
       "    }\n",
       "</style>\n",
       "<table border=\"1\" class=\"dataframe\">\n",
       "  <thead>\n",
       "    <tr style=\"text-align: right;\">\n",
       "      <th></th>\n",
       "      <th>country</th>\n",
       "      <th>happiness_score</th>\n",
       "    </tr>\n",
       "    <tr>\n",
       "      <th>world_region</th>\n",
       "      <th></th>\n",
       "      <th></th>\n",
       "    </tr>\n",
       "  </thead>\n",
       "  <tbody>\n",
       "    <tr>\n",
       "      <th>North America and ANZ</th>\n",
       "      <td>Australia</td>\n",
       "      <td>7.2228</td>\n",
       "    </tr>\n",
       "    <tr>\n",
       "      <th>North America and ANZ</th>\n",
       "      <td>Canada</td>\n",
       "      <td>7.2321</td>\n",
       "    </tr>\n",
       "    <tr>\n",
       "      <th>North America and ANZ</th>\n",
       "      <td>New Zealand</td>\n",
       "      <td>7.2996</td>\n",
       "    </tr>\n",
       "    <tr>\n",
       "      <th>North America and ANZ</th>\n",
       "      <td>United States</td>\n",
       "      <td>6.9396</td>\n",
       "    </tr>\n",
       "  </tbody>\n",
       "</table>\n",
       "</div>"
      ],
      "text/plain": [
       "                             country  happiness_score\n",
       "world_region                                         \n",
       "North America and ANZ      Australia           7.2228\n",
       "North America and ANZ         Canada           7.2321\n",
       "North America and ANZ    New Zealand           7.2996\n",
       "North America and ANZ  United States           6.9396"
      ]
     },
     "execution_count": 164,
     "metadata": {},
     "output_type": "execute_result"
    }
   ],
   "source": [
    "country_regions_data.set_index(['world_region','country'])\n",
    "north_america = country_regions_data.query('world_region == @happiness_ranking.iloc[0].name')[['world_region','country','happiness_score']]\n",
    "north_america.set_index(['world_region'], inplace=True)\n",
    "north_america"
   ]
  },
  {
   "cell_type": "markdown",
   "metadata": {},
   "source": [
    "## Task 4: How literate is the world?\n",
    "\n",
    "Print the names of the countries with a level of literacy of 100%. \n",
    "\n",
    "For each country, print the name and the world region in the format: *{region name} - {country name} ({happiness score})*"
   ]
  },
  {
   "cell_type": "code",
   "execution_count": 172,
   "metadata": {},
   "outputs": [
    {
     "name": "stdout",
     "output_type": "stream",
     "text": [
      "Australia\n",
      "Denmark\n",
      "Finland\n",
      "Luxembourg\n",
      "Norway\n",
      "*******************************************\n",
      "0 - Afghanistan(36.0)\n",
      "1 - Albania(86.5)\n",
      "2 - Algeria(70.0)\n",
      "3 - Argentina(97.1)\n",
      "4 - Armenia(98.6)\n",
      "5 - Australia(100.0)\n",
      "6 - Austria(98.0)\n",
      "7 - Azerbaijan(97.0)\n",
      "8 - Bahrain(89.1)\n",
      "9 - Bangladesh(43.1)\n",
      "10 - Belarus(99.6)\n",
      "11 - Belgium(98.0)\n",
      "12 - Benin(40.9)\n",
      "13 - Bolivia(87.2)\n",
      "14 - Botswana(79.8)\n",
      "15 - Brazil(86.4)\n",
      "16 - Bulgaria(98.6)\n",
      "17 - Burkina Faso(26.6)\n",
      "18 - Burundi(51.6)\n",
      "19 - Cambodia(69.4)\n",
      "20 - Cameroon(79.0)\n",
      "21 - Canada(97.0)\n",
      "22 - Chad(47.5)\n",
      "23 - Chile(96.2)\n",
      "24 - China(90.9)\n",
      "25 - Colombia(92.5)\n",
      "26 - Comoros(56.5)\n",
      "27 - Costa Rica(96.0)\n",
      "28 - Croatia(98.5)\n",
      "29 - Cyprus(97.6)\n",
      "30 - Czech Republic(99.9)\n",
      "31 - Denmark(100.0)\n",
      "32 - Dominican Republic(84.7)\n",
      "33 - Ecuador(92.5)\n",
      "34 - Egypt(57.7)\n",
      "35 - El Salvador(80.2)\n",
      "36 - Estonia(99.8)\n",
      "37 - Ethiopia(42.7)\n",
      "38 - Finland(100.0)\n",
      "39 - France(99.0)\n",
      "40 - Gabon(63.2)\n",
      "41 - Georgia(99.0)\n",
      "42 - Germany(99.0)\n",
      "43 - Ghana(74.8)\n",
      "44 - Greece(97.5)\n",
      "45 - Guatemala(70.6)\n",
      "46 - Guinea(35.9)\n",
      "47 - Haiti(52.9)\n",
      "48 - Honduras(76.2)\n",
      "49 - Hungary(99.4)\n",
      "50 - Iceland(99.9)\n",
      "51 - India(59.5)\n",
      "52 - Indonesia(87.9)\n",
      "53 - Iran(79.4)\n",
      "54 - Iraq(40.4)\n",
      "55 - Ireland(98.0)\n",
      "56 - Israel(95.4)\n",
      "57 - Italy(98.6)\n",
      "58 - Jamaica(87.9)\n",
      "59 - Japan(99.0)\n",
      "60 - Jordan(91.3)\n",
      "61 - Kazakhstan(98.4)\n",
      "62 - Kenya(85.1)\n",
      "63 - Kuwait(83.5)\n",
      "64 - Kyrgyzstan(97.0)\n",
      "65 - Laos(66.4)\n",
      "66 - Latvia(99.8)\n",
      "67 - Lebanon(87.4)\n",
      "68 - Lesotho(84.8)\n",
      "69 - Liberia(57.5)\n",
      "70 - Libya(82.6)\n",
      "71 - Lithuania(99.6)\n",
      "72 - Luxembourg(100.0)\n",
      "73 - Macedonia(nan)\n",
      "74 - Madagascar(68.9)\n",
      "75 - Malawi(62.7)\n",
      "76 - Malaysia(88.7)\n",
      "77 - Mali(46.4)\n",
      "78 - Malta(92.8)\n",
      "79 - Mauritania(41.7)\n",
      "80 - Mauritius(85.6)\n",
      "81 - Mexico(92.2)\n",
      "82 - Moldova(99.1)\n",
      "83 - Mongolia(97.8)\n",
      "84 - Morocco(51.7)\n",
      "85 - Mozambique(47.8)\n",
      "86 - Nepal(45.2)\n",
      "87 - Netherlands(99.0)\n",
      "88 - New Zealand(99.0)\n",
      "89 - Nicaragua(67.5)\n",
      "90 - Niger(17.6)\n",
      "91 - Nigeria(68.0)\n",
      "92 - Norway(100.0)\n",
      "93 - Pakistan(45.7)\n",
      "94 - Panama(92.6)\n",
      "95 - Paraguay(94.0)\n",
      "96 - Peru(90.9)\n",
      "97 - Philippines(92.6)\n",
      "98 - Poland(99.8)\n",
      "99 - Portugal(93.3)\n",
      "100 - Romania(98.4)\n",
      "101 - Russia(99.6)\n",
      "102 - Rwanda(70.4)\n",
      "103 - Saudi Arabia(78.8)\n",
      "104 - Senegal(40.2)\n",
      "105 - Serbia(93.0)\n",
      "106 - Sierra Leone(31.4)\n",
      "107 - Singapore(92.5)\n",
      "108 - Slovakia(nan)\n",
      "109 - Slovenia(99.7)\n",
      "110 - South Africa(86.4)\n",
      "111 - Spain(97.9)\n",
      "112 - Sri Lanka(92.3)\n",
      "113 - Swaziland(81.6)\n",
      "114 - Sweden(99.0)\n",
      "115 - Switzerland(99.0)\n",
      "116 - Tajikistan(99.4)\n",
      "117 - Tanzania(78.2)\n",
      "118 - Thailand(92.6)\n",
      "119 - Togo(60.9)\n",
      "120 - Tunisia(74.2)\n",
      "121 - Turkey(86.5)\n",
      "122 - Turkmenistan(98.0)\n",
      "123 - Uganda(69.9)\n",
      "124 - Ukraine(99.7)\n",
      "125 - United Arab Emirates(77.9)\n",
      "126 - United Kingdom(99.0)\n",
      "127 - United States(97.0)\n",
      "128 - Uruguay(98.0)\n",
      "129 - Uzbekistan(99.3)\n",
      "130 - Venezuela(93.4)\n",
      "131 - Vietnam(90.3)\n",
      "132 - Yemen(50.2)\n",
      "133 - Zambia(80.6)\n",
      "134 - Zimbabwe(90.7)\n"
     ]
    }
   ],
   "source": [
    "country_features.set_index(['world_region'])\n",
    "full_literacy = country_features.query('literacy == 100')\n",
    "for index, row in full_literacy.iterrows():\n",
    "    print(row['country'])\n",
    "print(\"*******************************************\")\n",
    "for index, row in country_features.iterrows():\n",
    "    print(f'{index} - {row[\"country\"]}({row[\"literacy\"]})')"
   ]
  },
  {
   "cell_type": "markdown",
   "metadata": {},
   "source": [
    "What is the global average?"
   ]
  },
  {
   "cell_type": "code",
   "execution_count": 192,
   "metadata": {},
   "outputs": [
    {
     "name": "stdout",
     "output_type": "stream",
     "text": [
      "The global average is 81.85112781954888%\n"
     ]
    }
   ],
   "source": [
    "literacy_global_average = country_features['literacy'].mean()\n",
    "print(f\"The global average is {literacy_global_average}%\")"
   ]
  },
  {
   "cell_type": "markdown",
   "metadata": {},
   "source": [
    "Calculate the proportion of countries with a literacy level below 50%. Print the value in percentage, formatted with 2 decimals."
   ]
  },
  {
   "cell_type": "code",
   "execution_count": 188,
   "metadata": {},
   "outputs": [
    {
     "name": "stdout",
     "output_type": "stream",
     "text": [
      "The proportion of country with literacy level below 50% is 0.12\n"
     ]
    }
   ],
   "source": [
    "below50 = country_features.query('literacy < 50')\n",
    "print(f'The proportion of country with literacy level below 50% is {len(below50)/len(country_features):.2f}')"
   ]
  },
  {
   "cell_type": "markdown",
   "metadata": {},
   "source": [
    "Print the raw number and the percentage of world population that is illiterate."
   ]
  },
  {
   "cell_type": "code",
   "execution_count": 196,
   "metadata": {},
   "outputs": [
    {
     "name": "stdout",
     "output_type": "stream",
     "text": [
      "The total population represents 6.145475e+09 people\n",
      "The population that is illiterate represents 1.115334e+09 \n"
     ]
    }
   ],
   "source": [
    "population = country_features.population.sum()\n",
    "print(f'The total population represents {population:e} people')\n",
    "print(f'The population that is illiterate represents {population * (100-literacy_global_average)/100:e} ')"
   ]
  },
  {
   "cell_type": "markdown",
   "metadata": {},
   "source": [
    "## Task 5: Population density\n",
    "\n",
    "Add to the dataframe a new field called *population_density* computed by dividing *population* by *area*."
   ]
  },
  {
   "cell_type": "code",
   "execution_count": 198,
   "metadata": {},
   "outputs": [
    {
     "data": {
      "text/html": [
       "<div>\n",
       "<style scoped>\n",
       "    .dataframe tbody tr th:only-of-type {\n",
       "        vertical-align: middle;\n",
       "    }\n",
       "\n",
       "    .dataframe tbody tr th {\n",
       "        vertical-align: top;\n",
       "    }\n",
       "\n",
       "    .dataframe thead th {\n",
       "        text-align: right;\n",
       "    }\n",
       "</style>\n",
       "<table border=\"1\" class=\"dataframe\">\n",
       "  <thead>\n",
       "    <tr style=\"text-align: right;\">\n",
       "      <th></th>\n",
       "      <th>country</th>\n",
       "      <th>area</th>\n",
       "      <th>population</th>\n",
       "      <th>literacy</th>\n",
       "      <th>happiness_score</th>\n",
       "      <th>social_support</th>\n",
       "      <th>healthy_life_expectancy</th>\n",
       "      <th>freedom_of_choices</th>\n",
       "      <th>generosity</th>\n",
       "      <th>perception_of_corruption</th>\n",
       "      <th>world_region</th>\n",
       "      <th>population_density</th>\n",
       "    </tr>\n",
       "  </thead>\n",
       "  <tbody>\n",
       "    <tr>\n",
       "      <th>0</th>\n",
       "      <td>Afghanistan</td>\n",
       "      <td>647500</td>\n",
       "      <td>31056997</td>\n",
       "      <td>36.0</td>\n",
       "      <td>2.5669</td>\n",
       "      <td>0.470367</td>\n",
       "      <td>52.590000</td>\n",
       "      <td>0.396573</td>\n",
       "      <td>-0.096429</td>\n",
       "      <td>0.933687</td>\n",
       "      <td>South Asia</td>\n",
       "      <td>47.964474</td>\n",
       "    </tr>\n",
       "    <tr>\n",
       "      <th>1</th>\n",
       "      <td>Albania</td>\n",
       "      <td>28748</td>\n",
       "      <td>3581655</td>\n",
       "      <td>86.5</td>\n",
       "      <td>4.8827</td>\n",
       "      <td>0.671070</td>\n",
       "      <td>68.708138</td>\n",
       "      <td>0.781994</td>\n",
       "      <td>-0.042309</td>\n",
       "      <td>0.896304</td>\n",
       "      <td>Central and Eastern Europe</td>\n",
       "      <td>124.587971</td>\n",
       "    </tr>\n",
       "    <tr>\n",
       "      <th>2</th>\n",
       "      <td>Algeria</td>\n",
       "      <td>2381740</td>\n",
       "      <td>32930091</td>\n",
       "      <td>70.0</td>\n",
       "      <td>5.0051</td>\n",
       "      <td>0.803385</td>\n",
       "      <td>65.905174</td>\n",
       "      <td>0.466611</td>\n",
       "      <td>-0.121105</td>\n",
       "      <td>0.735485</td>\n",
       "      <td>Middle East and North Africa</td>\n",
       "      <td>13.826065</td>\n",
       "    </tr>\n",
       "    <tr>\n",
       "      <th>3</th>\n",
       "      <td>Argentina</td>\n",
       "      <td>2766890</td>\n",
       "      <td>39921833</td>\n",
       "      <td>97.1</td>\n",
       "      <td>5.9747</td>\n",
       "      <td>0.900568</td>\n",
       "      <td>68.803802</td>\n",
       "      <td>0.831132</td>\n",
       "      <td>-0.194914</td>\n",
       "      <td>0.842010</td>\n",
       "      <td>Latin America and Caribbean</td>\n",
       "      <td>14.428413</td>\n",
       "    </tr>\n",
       "    <tr>\n",
       "      <th>4</th>\n",
       "      <td>Armenia</td>\n",
       "      <td>29800</td>\n",
       "      <td>2976372</td>\n",
       "      <td>98.6</td>\n",
       "      <td>4.6768</td>\n",
       "      <td>0.757479</td>\n",
       "      <td>66.750656</td>\n",
       "      <td>0.712018</td>\n",
       "      <td>-0.138780</td>\n",
       "      <td>0.773545</td>\n",
       "      <td>Commonwealth of Independent States</td>\n",
       "      <td>99.878255</td>\n",
       "    </tr>\n",
       "    <tr>\n",
       "      <th>...</th>\n",
       "      <td>...</td>\n",
       "      <td>...</td>\n",
       "      <td>...</td>\n",
       "      <td>...</td>\n",
       "      <td>...</td>\n",
       "      <td>...</td>\n",
       "      <td>...</td>\n",
       "      <td>...</td>\n",
       "      <td>...</td>\n",
       "      <td>...</td>\n",
       "      <td>...</td>\n",
       "      <td>...</td>\n",
       "    </tr>\n",
       "    <tr>\n",
       "      <th>130</th>\n",
       "      <td>Venezuela</td>\n",
       "      <td>912050</td>\n",
       "      <td>25730435</td>\n",
       "      <td>93.4</td>\n",
       "      <td>5.0532</td>\n",
       "      <td>0.890408</td>\n",
       "      <td>66.505341</td>\n",
       "      <td>0.623278</td>\n",
       "      <td>-0.169091</td>\n",
       "      <td>0.837038</td>\n",
       "      <td>Latin America and Caribbean</td>\n",
       "      <td>28.211650</td>\n",
       "    </tr>\n",
       "    <tr>\n",
       "      <th>131</th>\n",
       "      <td>Vietnam</td>\n",
       "      <td>329560</td>\n",
       "      <td>84402966</td>\n",
       "      <td>90.3</td>\n",
       "      <td>5.3535</td>\n",
       "      <td>0.849987</td>\n",
       "      <td>67.952736</td>\n",
       "      <td>0.939593</td>\n",
       "      <td>-0.094533</td>\n",
       "      <td>0.796421</td>\n",
       "      <td>Southeast Asia</td>\n",
       "      <td>256.108041</td>\n",
       "    </tr>\n",
       "    <tr>\n",
       "      <th>132</th>\n",
       "      <td>Yemen</td>\n",
       "      <td>527970</td>\n",
       "      <td>21456188</td>\n",
       "      <td>50.2</td>\n",
       "      <td>3.5274</td>\n",
       "      <td>0.817981</td>\n",
       "      <td>56.727283</td>\n",
       "      <td>0.599920</td>\n",
       "      <td>-0.157735</td>\n",
       "      <td>0.800288</td>\n",
       "      <td>Middle East and North Africa</td>\n",
       "      <td>40.639029</td>\n",
       "    </tr>\n",
       "    <tr>\n",
       "      <th>133</th>\n",
       "      <td>Zambia</td>\n",
       "      <td>752614</td>\n",
       "      <td>11502010</td>\n",
       "      <td>80.6</td>\n",
       "      <td>3.7594</td>\n",
       "      <td>0.698824</td>\n",
       "      <td>55.299377</td>\n",
       "      <td>0.806500</td>\n",
       "      <td>0.078037</td>\n",
       "      <td>0.801290</td>\n",
       "      <td>Sub-Saharan Africa</td>\n",
       "      <td>15.282748</td>\n",
       "    </tr>\n",
       "    <tr>\n",
       "      <th>134</th>\n",
       "      <td>Zimbabwe</td>\n",
       "      <td>390580</td>\n",
       "      <td>12236805</td>\n",
       "      <td>90.7</td>\n",
       "      <td>3.2992</td>\n",
       "      <td>0.763093</td>\n",
       "      <td>55.617260</td>\n",
       "      <td>0.711458</td>\n",
       "      <td>-0.072064</td>\n",
       "      <td>0.810237</td>\n",
       "      <td>Sub-Saharan Africa</td>\n",
       "      <td>31.329830</td>\n",
       "    </tr>\n",
       "  </tbody>\n",
       "</table>\n",
       "<p>135 rows × 12 columns</p>\n",
       "</div>"
      ],
      "text/plain": [
       "         country     area  population  literacy  happiness_score   \n",
       "0    Afghanistan   647500    31056997      36.0           2.5669  \\\n",
       "1        Albania    28748     3581655      86.5           4.8827   \n",
       "2        Algeria  2381740    32930091      70.0           5.0051   \n",
       "3      Argentina  2766890    39921833      97.1           5.9747   \n",
       "4        Armenia    29800     2976372      98.6           4.6768   \n",
       "..           ...      ...         ...       ...              ...   \n",
       "130    Venezuela   912050    25730435      93.4           5.0532   \n",
       "131      Vietnam   329560    84402966      90.3           5.3535   \n",
       "132        Yemen   527970    21456188      50.2           3.5274   \n",
       "133       Zambia   752614    11502010      80.6           3.7594   \n",
       "134     Zimbabwe   390580    12236805      90.7           3.2992   \n",
       "\n",
       "     social_support  healthy_life_expectancy  freedom_of_choices  generosity   \n",
       "0          0.470367                52.590000            0.396573   -0.096429  \\\n",
       "1          0.671070                68.708138            0.781994   -0.042309   \n",
       "2          0.803385                65.905174            0.466611   -0.121105   \n",
       "3          0.900568                68.803802            0.831132   -0.194914   \n",
       "4          0.757479                66.750656            0.712018   -0.138780   \n",
       "..              ...                      ...                 ...         ...   \n",
       "130        0.890408                66.505341            0.623278   -0.169091   \n",
       "131        0.849987                67.952736            0.939593   -0.094533   \n",
       "132        0.817981                56.727283            0.599920   -0.157735   \n",
       "133        0.698824                55.299377            0.806500    0.078037   \n",
       "134        0.763093                55.617260            0.711458   -0.072064   \n",
       "\n",
       "     perception_of_corruption                        world_region   \n",
       "0                    0.933687                          South Asia  \\\n",
       "1                    0.896304          Central and Eastern Europe   \n",
       "2                    0.735485        Middle East and North Africa   \n",
       "3                    0.842010         Latin America and Caribbean   \n",
       "4                    0.773545  Commonwealth of Independent States   \n",
       "..                        ...                                 ...   \n",
       "130                  0.837038         Latin America and Caribbean   \n",
       "131                  0.796421                      Southeast Asia   \n",
       "132                  0.800288        Middle East and North Africa   \n",
       "133                  0.801290                  Sub-Saharan Africa   \n",
       "134                  0.810237                  Sub-Saharan Africa   \n",
       "\n",
       "     population_density  \n",
       "0             47.964474  \n",
       "1            124.587971  \n",
       "2             13.826065  \n",
       "3             14.428413  \n",
       "4             99.878255  \n",
       "..                  ...  \n",
       "130           28.211650  \n",
       "131          256.108041  \n",
       "132           40.639029  \n",
       "133           15.282748  \n",
       "134           31.329830  \n",
       "\n",
       "[135 rows x 12 columns]"
      ]
     },
     "execution_count": 198,
     "metadata": {},
     "output_type": "execute_result"
    }
   ],
   "source": [
    "country_features['population_density'] = country_features['population']/country_features['area']\n",
    "country_features"
   ]
  },
  {
   "cell_type": "markdown",
   "metadata": {},
   "source": [
    "What is the happiness score of the 3 countries with the lowest population density?"
   ]
  },
  {
   "cell_type": "code",
   "execution_count": 203,
   "metadata": {},
   "outputs": [
    {
     "data": {
      "text/html": [
       "<div>\n",
       "<style scoped>\n",
       "    .dataframe tbody tr th:only-of-type {\n",
       "        vertical-align: middle;\n",
       "    }\n",
       "\n",
       "    .dataframe tbody tr th {\n",
       "        vertical-align: top;\n",
       "    }\n",
       "\n",
       "    .dataframe thead th {\n",
       "        text-align: right;\n",
       "    }\n",
       "</style>\n",
       "<table border=\"1\" class=\"dataframe\">\n",
       "  <thead>\n",
       "    <tr style=\"text-align: right;\">\n",
       "      <th></th>\n",
       "      <th>country</th>\n",
       "      <th>happiness_score</th>\n",
       "      <th>population_density</th>\n",
       "    </tr>\n",
       "  </thead>\n",
       "  <tbody>\n",
       "    <tr>\n",
       "      <th>24</th>\n",
       "      <td>China</td>\n",
       "      <td>5.1239</td>\n",
       "      <td>136.915618</td>\n",
       "    </tr>\n",
       "    <tr>\n",
       "      <th>51</th>\n",
       "      <td>India</td>\n",
       "      <td>3.5733</td>\n",
       "      <td>333.177797</td>\n",
       "    </tr>\n",
       "    <tr>\n",
       "      <th>127</th>\n",
       "      <td>United States</td>\n",
       "      <td>6.9396</td>\n",
       "      <td>30.986523</td>\n",
       "    </tr>\n",
       "  </tbody>\n",
       "</table>\n",
       "</div>"
      ],
      "text/plain": [
       "           country  happiness_score  population_density\n",
       "24           China           5.1239          136.915618\n",
       "51           India           3.5733          333.177797\n",
       "127  United States           6.9396           30.986523"
      ]
     },
     "execution_count": 203,
     "metadata": {},
     "output_type": "execute_result"
    }
   ],
   "source": [
    "country_features.sort_values(ascending=[False,False], by=['population','happiness_score'])[['country','happiness_score','population_density']].head(3)"
   ]
  },
  {
   "cell_type": "markdown",
   "metadata": {},
   "source": [
    "## Task 6: Healty and happy?\n",
    "\n",
    "Plot in a scatter plot the happiness score (x) and healty life expectancy (y)."
   ]
  },
  {
   "cell_type": "code",
   "execution_count": 227,
   "metadata": {},
   "outputs": [
    {
     "data": {
      "text/plain": [
       "<Axes: xlabel='happiness_score', ylabel='healthy_life_expectancy'>"
      ]
     },
     "execution_count": 227,
     "metadata": {},
     "output_type": "execute_result"
    },
    {
     "data": {
      "image/png": "[encoded data removed]",
      "text/plain": [
       "<Figure size 1200x800 with 1 Axes>"
      ]
     },
     "metadata": {},
     "output_type": "display_data"
    }
   ],
   "source": [
    "import seaborn as sns\n",
    "sns.set(rc={'figure.figsize':(12,8)})\n",
    "sns.scatterplot(data=country_features,x='happiness_score' ,y='healthy_life_expectancy', hue='world_region')\n",
    "\n"
   ]
  },
  {
   "cell_type": "markdown",
   "metadata": {},
   "source": [
    "Feel free to continue the exploration of the dataset! We'll release the solutions next week.\n",
    "\n",
    "----\n",
    "Enjoy EPFL and be happy, next year Switzerland must be #1."
   ]
  }
 ],
 "metadata": {
  "kernelspec": {
   "display_name": "Python 3 (ipykernel)",
   "language": "python",
   "name": "python3"
  },
  "language_info": {
   "codemirror_mode": {
    "name": "ipython",
    "version": 3
   },
   "file_extension": ".py",
   "mimetype": "text/x-python",
   "name": "python",
   "nbconvert_exporter": "python",
   "pygments_lexer": "ipython3",
   "version": "3.9.13"
  }
 },
 "nbformat": 4,
 "nbformat_minor": 4
}
